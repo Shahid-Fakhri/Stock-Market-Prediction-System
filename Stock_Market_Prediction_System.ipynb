{
  "nbformat": 4,
  "nbformat_minor": 0,
  "metadata": {
    "colab": {
      "name": "Stock Market Prediction System.ipynb",
      "provenance": [],
      "collapsed_sections": []
    },
    "kernelspec": {
      "name": "python3",
      "display_name": "Python 3"
    },
    "language_info": {
      "name": "python"
    }
  },
  "cells": [
    {
      "cell_type": "markdown",
      "metadata": {
        "id": "vWvEQa01bkGK"
      },
      "source": [
        "**Stock Market Prediction System**\n",
        "\n",
        "First we'll gather the stock data for five stock ticker, that are APPL, AMZN, GOOG, FB, and TSLA. The idea is to create/find a data set that has news article headlines of these stock or company, then perform sentiment analysis, then gather the stock prices from the historic data, finding corelation and lastly applying ML model on the data for future prediction.\n",
        "\n",
        "We'll use Beautifulsoup in Python to scrape article headlines of the mentioned stock ticker from FinViz. Next up, we will extract our historic stock data from Yahoo Finance using the yfinance library."
      ]
    },
    {
      "cell_type": "code",
      "metadata": {
        "id": "OIzolefsbv5q"
      },
      "source": [
        "# Import Packages \n",
        "import numpy as np \n",
        "import pandas as pd\n",
        "import matplotlib.pyplot as plt\n",
        "import warnings\n",
        "warnings.filterwarnings('ignore')"
      ],
      "execution_count": null,
      "outputs": []
    },
    {
      "cell_type": "code",
      "metadata": {
        "id": "0uszzGDvx43J"
      },
      "source": [
        "from urllib.request import urlopen, Request\n",
        "from bs4 import BeautifulSoup"
      ],
      "execution_count": null,
      "outputs": []
    },
    {
      "cell_type": "code",
      "metadata": {
        "id": "vwOfWZ8Vy1YV"
      },
      "source": [
        "finviz_url = 'https://finviz.com/quote.ashx?t='\n",
        "companies = ['AAPL','AMZN', 'GOOG', 'FB', 'TSLA']\n",
        "\n",
        "news_tables = {}\n",
        "parsed_data = []\n",
        "\n",
        "for company in companies:\n",
        "    url = finviz_url + company\n",
        "\n",
        "    req = Request(url=url, headers={'user-agent': 'my-app'})\n",
        "    response = urlopen(req)\n",
        "\n",
        "    html = BeautifulSoup(response, features='html.parser')\n",
        "    news_table = html.find(id='news-table')\n",
        "    news_tables[company] = news_table"
      ],
      "execution_count": null,
      "outputs": []
    },
    {
      "cell_type": "code",
      "metadata": {
        "id": "ektp_L3Xy7Qx"
      },
      "source": [
        "# Iterate through the news\n",
        "for company, news_table in news_tables.items():\n",
        "    for row in news_table.findAll('tr'):\n",
        "        title = row.a.text\n",
        "        date_data = row.td.text.split(' ')\n",
        "\n",
        "        if len(date_data) == 1:\n",
        "            time = date_data[0]\n",
        "        else:\n",
        "            date = date_data[0]\n",
        "            time = date_data[1]\n",
        "\n",
        "        parsed_data.append([company, date, time, title])\n",
        "\n",
        "news_df = pd.DataFrame(parsed_data, columns=['Company', 'Date', 'Time', 'News Headline'])\n",
        "news_df['Date'] = pd.to_datetime(news_df.Date).dt.date"
      ],
      "execution_count": null,
      "outputs": []
    },
    {
      "cell_type": "code",
      "metadata": {
        "id": "Oc6SG0ySztGV",
        "colab": {
          "base_uri": "https://localhost:8080/",
          "height": 204
        },
        "outputId": "7923c864-ea50-40b7-dafc-a5336f4adc9c"
      },
      "source": [
        "news_df.head()"
      ],
      "execution_count": null,
      "outputs": [
        {
          "output_type": "execute_result",
          "data": {
            "text/html": [
              "<div>\n",
              "<style scoped>\n",
              "    .dataframe tbody tr th:only-of-type {\n",
              "        vertical-align: middle;\n",
              "    }\n",
              "\n",
              "    .dataframe tbody tr th {\n",
              "        vertical-align: top;\n",
              "    }\n",
              "\n",
              "    .dataframe thead th {\n",
              "        text-align: right;\n",
              "    }\n",
              "</style>\n",
              "<table border=\"1\" class=\"dataframe\">\n",
              "  <thead>\n",
              "    <tr style=\"text-align: right;\">\n",
              "      <th></th>\n",
              "      <th>Company</th>\n",
              "      <th>Date</th>\n",
              "      <th>Time</th>\n",
              "      <th>News Headline</th>\n",
              "    </tr>\n",
              "  </thead>\n",
              "  <tbody>\n",
              "    <tr>\n",
              "      <th>0</th>\n",
              "      <td>AAPL</td>\n",
              "      <td>2021-07-17</td>\n",
              "      <td>10:13AM</td>\n",
              "      <td>Ive used Apple AirPods for years now. Heres wh...</td>\n",
              "    </tr>\n",
              "    <tr>\n",
              "      <th>1</th>\n",
              "      <td>AAPL</td>\n",
              "      <td>2021-07-17</td>\n",
              "      <td>08:21AM</td>\n",
              "      <td>How HBO Max, Netflix, Disney+ secured 'dominan...</td>\n",
              "    </tr>\n",
              "    <tr>\n",
              "      <th>2</th>\n",
              "      <td>AAPL</td>\n",
              "      <td>2021-07-17</td>\n",
              "      <td>08:00AM</td>\n",
              "      <td>Is This Apple Supplier a Buy Before Its Next E...</td>\n",
              "    </tr>\n",
              "    <tr>\n",
              "      <th>3</th>\n",
              "      <td>AAPL</td>\n",
              "      <td>2021-07-17</td>\n",
              "      <td>07:00AM</td>\n",
              "      <td>Big Contrarian Investor Sold Apple, Microsoft ...</td>\n",
              "    </tr>\n",
              "    <tr>\n",
              "      <th>4</th>\n",
              "      <td>AAPL</td>\n",
              "      <td>2021-07-16</td>\n",
              "      <td>07:22PM</td>\n",
              "      <td>Tech Earnings Start Monday. Here Are 5 Trends ...</td>\n",
              "    </tr>\n",
              "  </tbody>\n",
              "</table>\n",
              "</div>"
            ],
            "text/plain": [
              "  Company  ...                                      News Headline\n",
              "0    AAPL  ...  Ive used Apple AirPods for years now. Heres wh...\n",
              "1    AAPL  ...  How HBO Max, Netflix, Disney+ secured 'dominan...\n",
              "2    AAPL  ...  Is This Apple Supplier a Buy Before Its Next E...\n",
              "3    AAPL  ...  Big Contrarian Investor Sold Apple, Microsoft ...\n",
              "4    AAPL  ...  Tech Earnings Start Monday. Here Are 5 Trends ...\n",
              "\n",
              "[5 rows x 4 columns]"
            ]
          },
          "metadata": {
            "tags": []
          },
          "execution_count": 319
        }
      ]
    },
    {
      "cell_type": "code",
      "metadata": {
        "id": "e3hVizR40VPV",
        "colab": {
          "base_uri": "https://localhost:8080/"
        },
        "outputId": "df735722-7ac6-42c6-897a-aaa86bcaa101"
      },
      "source": [
        "news_df.info()"
      ],
      "execution_count": null,
      "outputs": [
        {
          "output_type": "stream",
          "text": [
            "<class 'pandas.core.frame.DataFrame'>\n",
            "RangeIndex: 500 entries, 0 to 499\n",
            "Data columns (total 4 columns):\n",
            " #   Column         Non-Null Count  Dtype \n",
            "---  ------         --------------  ----- \n",
            " 0   Company        500 non-null    object\n",
            " 1   Date           500 non-null    object\n",
            " 2   Time           500 non-null    object\n",
            " 3   News Headline  500 non-null    object\n",
            "dtypes: object(4)\n",
            "memory usage: 15.8+ KB\n"
          ],
          "name": "stdout"
        }
      ]
    },
    {
      "cell_type": "code",
      "metadata": {
        "id": "891tgpvjz-HH",
        "colab": {
          "base_uri": "https://localhost:8080/"
        },
        "outputId": "da6f430a-dd97-473d-b815-8d34818a68e9"
      },
      "source": [
        "news_df['Company'].unique()"
      ],
      "execution_count": null,
      "outputs": [
        {
          "output_type": "execute_result",
          "data": {
            "text/plain": [
              "array(['AAPL', 'AMZN', 'GOOG', 'FB', 'TSLA'], dtype=object)"
            ]
          },
          "metadata": {
            "tags": []
          },
          "execution_count": 321
        }
      ]
    },
    {
      "cell_type": "code",
      "metadata": {
        "id": "qujY8QCpz-bt",
        "colab": {
          "base_uri": "https://localhost:8080/"
        },
        "outputId": "3fb26f52-5188-46f6-8a85-b8f315ee5710"
      },
      "source": [
        "news_df['Date'].unique()"
      ],
      "execution_count": null,
      "outputs": [
        {
          "output_type": "execute_result",
          "data": {
            "text/plain": [
              "array([datetime.date(2021, 7, 17), datetime.date(2021, 7, 16),\n",
              "       datetime.date(2021, 7, 15), datetime.date(2021, 7, 14),\n",
              "       datetime.date(2021, 7, 13), datetime.date(2021, 7, 12),\n",
              "       datetime.date(2021, 7, 11), datetime.date(2021, 7, 10),\n",
              "       datetime.date(2021, 7, 9), datetime.date(2021, 7, 8),\n",
              "       datetime.date(2021, 7, 7)], dtype=object)"
            ]
          },
          "metadata": {
            "tags": []
          },
          "execution_count": 183
        }
      ]
    },
    {
      "cell_type": "code",
      "metadata": {
        "id": "1tla-9uM0Zwy"
      },
      "source": [
        "# Clean the News Headline text data using regex expressions\n",
        "import re\n",
        "\n",
        "def clean_text(text):\n",
        "  lower_case = text.lower() #lower the case\n",
        "  remove_url = re.sub(r\"https\\S+\",\"\",lower_case) \n",
        "  remove_hash = re.sub(r\"#\\w*\",\"\",remove_url)\n",
        "  remove_punctuation = re.sub(r'[^\\w\\s]','',remove_hash)\n",
        "  remove_gt = remove_punctuation.replace(\"&gt\",\"\",True)\n",
        "  remove_amp = remove_gt.replace('&amp','',True)\n",
        "  clean = remove_amp\n",
        "  return clean\n",
        "\n",
        "news_df['News Headline'] = news_df['News Headline'].apply(clean_text)"
      ],
      "execution_count": null,
      "outputs": []
    },
    {
      "cell_type": "code",
      "metadata": {
        "colab": {
          "base_uri": "https://localhost:8080/"
        },
        "id": "1tnVfTThyhS_",
        "outputId": "dafee85b-f48e-4aa5-fb44-3c71cfbf2944"
      },
      "source": [
        "pip install flair"
      ],
      "execution_count": null,
      "outputs": [
        {
          "output_type": "stream",
          "text": [
            "Collecting flair\n",
            "\u001b[?25l  Downloading https://files.pythonhosted.org/packages/f0/3a/1b46a0220d6176b22bcb9336619d1731301bc2c75fa926a9ef953e6e4d58/flair-0.8.0.post1-py3-none-any.whl (284kB)\n",
            "\u001b[K     |████████████████████████████████| 286kB 5.2MB/s \n",
            "\u001b[?25hRequirement already satisfied: gensim<=3.8.3,>=3.4.0 in /usr/local/lib/python3.7/dist-packages (from flair) (3.6.0)\n",
            "Requirement already satisfied: tabulate in /usr/local/lib/python3.7/dist-packages (from flair) (0.8.9)\n",
            "Requirement already satisfied: scikit-learn>=0.21.3 in /usr/local/lib/python3.7/dist-packages (from flair) (0.22.2.post1)\n",
            "Collecting bpemb>=0.3.2\n",
            "  Downloading https://files.pythonhosted.org/packages/f2/6f/9191b85109772636a8f8accb122900c34db26c091d2793218aa94954524c/bpemb-0.3.3-py3-none-any.whl\n",
            "Collecting janome\n",
            "\u001b[?25l  Downloading https://files.pythonhosted.org/packages/a8/63/98858cbead27df7536c7e300c169da0999e9704d02220dc6700b804eeff0/Janome-0.4.1-py2.py3-none-any.whl (19.7MB)\n",
            "\u001b[K     |████████████████████████████████| 19.7MB 1.3MB/s \n",
            "\u001b[?25hRequirement already satisfied: tqdm>=4.26.0 in /usr/local/lib/python3.7/dist-packages (from flair) (4.41.1)\n",
            "Requirement already satisfied: lxml in /usr/local/lib/python3.7/dist-packages (from flair) (4.2.6)\n",
            "Collecting torch<=1.7.1,>=1.5.0\n",
            "\u001b[?25l  Downloading https://files.pythonhosted.org/packages/90/5d/095ddddc91c8a769a68c791c019c5793f9c4456a688ddd235d6670924ecb/torch-1.7.1-cp37-cp37m-manylinux1_x86_64.whl (776.8MB)\n",
            "\u001b[K     |████████████████████████████████| 776.8MB 22kB/s \n",
            "\u001b[?25hCollecting segtok>=1.5.7\n",
            "  Downloading https://files.pythonhosted.org/packages/41/08/582dab5f4b1d5ca23bc6927b4bb977c8ff7f3a87a3b98844ef833e2f5623/segtok-1.5.10.tar.gz\n",
            "Collecting sqlitedict>=1.6.0\n",
            "  Downloading https://files.pythonhosted.org/packages/5c/2d/b1d99e9ad157dd7de9cd0d36a8a5876b13b55e4b75f7498bc96035fb4e96/sqlitedict-1.7.0.tar.gz\n",
            "Requirement already satisfied: regex in /usr/local/lib/python3.7/dist-packages (from flair) (2019.12.20)\n",
            "Requirement already satisfied: numpy<1.20.0 in /usr/local/lib/python3.7/dist-packages (from flair) (1.19.5)\n",
            "Requirement already satisfied: matplotlib>=2.2.3 in /usr/local/lib/python3.7/dist-packages (from flair) (3.2.2)\n",
            "Collecting mpld3==0.3\n",
            "\u001b[?25l  Downloading https://files.pythonhosted.org/packages/91/95/a52d3a83d0a29ba0d6898f6727e9858fe7a43f6c2ce81a5fe7e05f0f4912/mpld3-0.3.tar.gz (788kB)\n",
            "\u001b[K     |████████████████████████████████| 798kB 40.5MB/s \n",
            "\u001b[?25hCollecting sentencepiece==0.1.95\n",
            "\u001b[?25l  Downloading https://files.pythonhosted.org/packages/f5/99/e0808cb947ba10f575839c43e8fafc9cc44e4a7a2c8f79c60db48220a577/sentencepiece-0.1.95-cp37-cp37m-manylinux2014_x86_64.whl (1.2MB)\n",
            "\u001b[K     |████████████████████████████████| 1.2MB 24.2MB/s \n",
            "\u001b[?25hCollecting huggingface-hub\n",
            "\u001b[?25l  Downloading https://files.pythonhosted.org/packages/67/d5/07894f2f047055576c3559a66d921c37d1280fda74b08fe574a8490e5999/huggingface_hub-0.0.14-py3-none-any.whl (43kB)\n",
            "\u001b[K     |████████████████████████████████| 51kB 6.0MB/s \n",
            "\u001b[?25hCollecting transformers>=4.0.0\n",
            "\u001b[?25l  Downloading https://files.pythonhosted.org/packages/fd/1a/41c644c963249fd7f3836d926afa1e3f1cc234a1c40d80c5f03ad8f6f1b2/transformers-4.8.2-py3-none-any.whl (2.5MB)\n",
            "\u001b[K     |████████████████████████████████| 2.5MB 32.7MB/s \n",
            "\u001b[?25hRequirement already satisfied: python-dateutil>=2.6.1 in /usr/local/lib/python3.7/dist-packages (from flair) (2.8.1)\n",
            "Collecting deprecated>=1.2.4\n",
            "  Downloading https://files.pythonhosted.org/packages/fb/73/994edfcba74443146c84b91921fcc269374354118d4f452fb0c54c1cbb12/Deprecated-1.2.12-py2.py3-none-any.whl\n",
            "Collecting konoha<5.0.0,>=4.0.0\n",
            "  Downloading https://files.pythonhosted.org/packages/71/70/48a0bd55f79c328504fe6fe7ae8ff651f77a2aadbb1911701385d9bb5ca3/konoha-4.6.5-py3-none-any.whl\n",
            "Collecting ftfy\n",
            "\u001b[?25l  Downloading https://files.pythonhosted.org/packages/af/da/d215a091986e5f01b80f5145cff6f22e2dc57c6b048aab2e882a07018473/ftfy-6.0.3.tar.gz (64kB)\n",
            "\u001b[K     |████████████████████████████████| 71kB 8.7MB/s \n",
            "\u001b[?25hCollecting gdown==3.12.2\n",
            "  Downloading https://files.pythonhosted.org/packages/50/21/92c3cfe56f5c0647145c4b0083d0733dd4890a057eb100a8eeddf949ffe9/gdown-3.12.2.tar.gz\n",
            "  Installing build dependencies ... \u001b[?25l\u001b[?25hdone\n",
            "  Getting requirements to build wheel ... \u001b[?25l\u001b[?25hdone\n",
            "    Preparing wheel metadata ... \u001b[?25l\u001b[?25hdone\n",
            "Requirement already satisfied: hyperopt>=0.1.1 in /usr/local/lib/python3.7/dist-packages (from flair) (0.1.2)\n",
            "Collecting langdetect\n",
            "\u001b[?25l  Downloading https://files.pythonhosted.org/packages/0e/72/a3add0e4eec4eb9e2569554f7c70f4a3c27712f40e3284d483e88094cc0e/langdetect-1.0.9.tar.gz (981kB)\n",
            "\u001b[K     |████████████████████████████████| 983kB 48.4MB/s \n",
            "\u001b[?25hRequirement already satisfied: six>=1.5.0 in /usr/local/lib/python3.7/dist-packages (from gensim<=3.8.3,>=3.4.0->flair) (1.15.0)\n",
            "Requirement already satisfied: scipy>=0.18.1 in /usr/local/lib/python3.7/dist-packages (from gensim<=3.8.3,>=3.4.0->flair) (1.4.1)\n",
            "Requirement already satisfied: smart-open>=1.2.1 in /usr/local/lib/python3.7/dist-packages (from gensim<=3.8.3,>=3.4.0->flair) (5.1.0)\n",
            "Requirement already satisfied: joblib>=0.11 in /usr/local/lib/python3.7/dist-packages (from scikit-learn>=0.21.3->flair) (1.0.1)\n",
            "Requirement already satisfied: requests in /usr/local/lib/python3.7/dist-packages (from bpemb>=0.3.2->flair) (2.23.0)\n",
            "Requirement already satisfied: typing-extensions in /usr/local/lib/python3.7/dist-packages (from torch<=1.7.1,>=1.5.0->flair) (3.7.4.3)\n",
            "Requirement already satisfied: pyparsing!=2.0.4,!=2.1.2,!=2.1.6,>=2.0.1 in /usr/local/lib/python3.7/dist-packages (from matplotlib>=2.2.3->flair) (2.4.7)\n",
            "Requirement already satisfied: cycler>=0.10 in /usr/local/lib/python3.7/dist-packages (from matplotlib>=2.2.3->flair) (0.10.0)\n",
            "Requirement already satisfied: kiwisolver>=1.0.1 in /usr/local/lib/python3.7/dist-packages (from matplotlib>=2.2.3->flair) (1.3.1)\n",
            "Requirement already satisfied: filelock in /usr/local/lib/python3.7/dist-packages (from huggingface-hub->flair) (3.0.12)\n",
            "Requirement already satisfied: importlib-metadata; python_version < \"3.8\" in /usr/local/lib/python3.7/dist-packages (from huggingface-hub->flair) (4.6.1)\n",
            "Requirement already satisfied: packaging>=20.9 in /usr/local/lib/python3.7/dist-packages (from huggingface-hub->flair) (21.0)\n",
            "Collecting sacremoses\n",
            "\u001b[?25l  Downloading https://files.pythonhosted.org/packages/75/ee/67241dc87f266093c533a2d4d3d69438e57d7a90abb216fa076e7d475d4a/sacremoses-0.0.45-py3-none-any.whl (895kB)\n",
            "\u001b[K     |████████████████████████████████| 901kB 46.1MB/s \n",
            "\u001b[?25hCollecting tokenizers<0.11,>=0.10.1\n",
            "\u001b[?25l  Downloading https://files.pythonhosted.org/packages/d4/e2/df3543e8ffdab68f5acc73f613de9c2b155ac47f162e725dcac87c521c11/tokenizers-0.10.3-cp37-cp37m-manylinux_2_5_x86_64.manylinux1_x86_64.manylinux_2_12_x86_64.manylinux2010_x86_64.whl (3.3MB)\n",
            "\u001b[K     |████████████████████████████████| 3.3MB 34.2MB/s \n",
            "\u001b[?25hRequirement already satisfied: pyyaml in /usr/local/lib/python3.7/dist-packages (from transformers>=4.0.0->flair) (3.13)\n",
            "Requirement already satisfied: wrapt<2,>=1.10 in /usr/local/lib/python3.7/dist-packages (from deprecated>=1.2.4->flair) (1.12.1)\n",
            "Collecting overrides<4.0.0,>=3.0.0\n",
            "  Downloading https://files.pythonhosted.org/packages/ff/b1/10f69c00947518e6676bbd43e739733048de64b8dd998e9c2d5a71f44c5d/overrides-3.1.0.tar.gz\n",
            "Requirement already satisfied: wcwidth in /usr/local/lib/python3.7/dist-packages (from ftfy->flair) (0.2.5)\n",
            "Requirement already satisfied: networkx in /usr/local/lib/python3.7/dist-packages (from hyperopt>=0.1.1->flair) (2.5.1)\n",
            "Requirement already satisfied: pymongo in /usr/local/lib/python3.7/dist-packages (from hyperopt>=0.1.1->flair) (3.11.4)\n",
            "Requirement already satisfied: future in /usr/local/lib/python3.7/dist-packages (from hyperopt>=0.1.1->flair) (0.16.0)\n",
            "Requirement already satisfied: idna<3,>=2.5 in /usr/local/lib/python3.7/dist-packages (from requests->bpemb>=0.3.2->flair) (2.10)\n",
            "Requirement already satisfied: certifi>=2017.4.17 in /usr/local/lib/python3.7/dist-packages (from requests->bpemb>=0.3.2->flair) (2021.5.30)\n",
            "Requirement already satisfied: urllib3!=1.25.0,!=1.25.1,<1.26,>=1.21.1 in /usr/local/lib/python3.7/dist-packages (from requests->bpemb>=0.3.2->flair) (1.24.3)\n",
            "Requirement already satisfied: chardet<4,>=3.0.2 in /usr/local/lib/python3.7/dist-packages (from requests->bpemb>=0.3.2->flair) (3.0.4)\n",
            "Requirement already satisfied: zipp>=0.5 in /usr/local/lib/python3.7/dist-packages (from importlib-metadata; python_version < \"3.8\"->huggingface-hub->flair) (3.5.0)\n",
            "Requirement already satisfied: click in /usr/local/lib/python3.7/dist-packages (from sacremoses->transformers>=4.0.0->flair) (7.1.2)\n",
            "Requirement already satisfied: decorator<5,>=4.3 in /usr/local/lib/python3.7/dist-packages (from networkx->hyperopt>=0.1.1->flair) (4.4.2)\n",
            "Building wheels for collected packages: gdown\n",
            "  Building wheel for gdown (PEP 517) ... \u001b[?25l\u001b[?25hdone\n",
            "  Created wheel for gdown: filename=gdown-3.12.2-cp37-none-any.whl size=9705 sha256=f94b24bd5afb747d52003bc263a8543d71a27ab250463d462e821b5ebd06a826\n",
            "  Stored in directory: /root/.cache/pip/wheels/81/d0/d7/d9983facc6f2775411803e0e2d30ebf98efbf2fc6e57701e09\n",
            "Successfully built gdown\n",
            "Building wheels for collected packages: segtok, sqlitedict, mpld3, ftfy, langdetect, overrides\n",
            "  Building wheel for segtok (setup.py) ... \u001b[?25l\u001b[?25hdone\n",
            "  Created wheel for segtok: filename=segtok-1.5.10-cp37-none-any.whl size=25031 sha256=ee95d323586765e1e9cd658589bfab4f55056560a5d5c5acc5b259d19122e6af\n",
            "  Stored in directory: /root/.cache/pip/wheels/b4/39/f6/9ca1c5cabde964d728023b5751c3a206a5c8cc40252321fb6b\n",
            "  Building wheel for sqlitedict (setup.py) ... \u001b[?25l\u001b[?25hdone\n",
            "  Created wheel for sqlitedict: filename=sqlitedict-1.7.0-cp37-none-any.whl size=14393 sha256=1a3f24b94466c805d7e310f932b3023fc3a3d6cc5ad5513b04850ac43db14e32\n",
            "  Stored in directory: /root/.cache/pip/wheels/cf/c6/4f/2c64a43f041415eb8b8740bd80e15e92f0d46c5e464d8e4b9b\n",
            "  Building wheel for mpld3 (setup.py) ... \u001b[?25l\u001b[?25hdone\n",
            "  Created wheel for mpld3: filename=mpld3-0.3-cp37-none-any.whl size=116704 sha256=2f893b0f0ab70e6d1934ca3e8b0c2af0bdc9e63147f722b24abaf61d03bd42f3\n",
            "  Stored in directory: /root/.cache/pip/wheels/c0/47/fb/8a64f89aecfe0059830479308ad42d62e898a3e3cefdf6ba28\n",
            "  Building wheel for ftfy (setup.py) ... \u001b[?25l\u001b[?25hdone\n",
            "  Created wheel for ftfy: filename=ftfy-6.0.3-cp37-none-any.whl size=41935 sha256=21507ae4909cc81da57e37ca3498ca7464c50ecce02d3b7aea1618b7d7dd87b2\n",
            "  Stored in directory: /root/.cache/pip/wheels/99/2c/e6/109c8a28fef7a443f67ba58df21fe1d0067ac3322e75e6b0b7\n",
            "  Building wheel for langdetect (setup.py) ... \u001b[?25l\u001b[?25hdone\n",
            "  Created wheel for langdetect: filename=langdetect-1.0.9-cp37-none-any.whl size=993242 sha256=ef1390adc8ecf2bcc5f980bdcf7ad59b5cf04ed653ee970d6bde8553ec48fa81\n",
            "  Stored in directory: /root/.cache/pip/wheels/7e/18/13/038c34057808931c7ddc6c92d3aa015cf1a498df5a70268996\n",
            "  Building wheel for overrides (setup.py) ... \u001b[?25l\u001b[?25hdone\n",
            "  Created wheel for overrides: filename=overrides-3.1.0-cp37-none-any.whl size=10187 sha256=619f791d9c092f9aa62b43453edcb78a597f473de76c174bec75b97bbe047250\n",
            "  Stored in directory: /root/.cache/pip/wheels/5c/24/13/6ef8600e6f147c95e595f1289a86a3cc82ed65df57582c65a9\n",
            "Successfully built segtok sqlitedict mpld3 ftfy langdetect overrides\n",
            "\u001b[31mERROR: torchvision 0.10.0+cu102 has requirement torch==1.9.0, but you'll have torch 1.7.1 which is incompatible.\u001b[0m\n",
            "\u001b[31mERROR: torchtext 0.10.0 has requirement torch==1.9.0, but you'll have torch 1.7.1 which is incompatible.\u001b[0m\n",
            "\u001b[31mERROR: transformers 4.8.2 has requirement huggingface-hub==0.0.12, but you'll have huggingface-hub 0.0.14 which is incompatible.\u001b[0m\n",
            "\u001b[31mERROR: konoha 4.6.5 has requirement importlib-metadata<4.0.0,>=3.7.0, but you'll have importlib-metadata 4.6.1 which is incompatible.\u001b[0m\n",
            "\u001b[31mERROR: konoha 4.6.5 has requirement requests<3.0.0,>=2.25.1, but you'll have requests 2.23.0 which is incompatible.\u001b[0m\n",
            "Installing collected packages: sentencepiece, bpemb, janome, torch, segtok, sqlitedict, mpld3, huggingface-hub, sacremoses, tokenizers, transformers, deprecated, overrides, konoha, ftfy, gdown, langdetect, flair\n",
            "  Found existing installation: torch 1.9.0+cu102\n",
            "    Uninstalling torch-1.9.0+cu102:\n",
            "      Successfully uninstalled torch-1.9.0+cu102\n",
            "  Found existing installation: gdown 3.6.4\n",
            "    Uninstalling gdown-3.6.4:\n",
            "      Successfully uninstalled gdown-3.6.4\n",
            "Successfully installed bpemb-0.3.3 deprecated-1.2.12 flair-0.8.0.post1 ftfy-6.0.3 gdown-3.12.2 huggingface-hub-0.0.14 janome-0.4.1 konoha-4.6.5 langdetect-1.0.9 mpld3-0.3 overrides-3.1.0 sacremoses-0.0.45 segtok-1.5.10 sentencepiece-0.1.95 sqlitedict-1.7.0 tokenizers-0.10.3 torch-1.7.1 transformers-4.8.2\n"
          ],
          "name": "stdout"
        }
      ]
    },
    {
      "cell_type": "code",
      "metadata": {
        "id": "AEvjF-_CzP4H",
        "colab": {
          "base_uri": "https://localhost:8080/"
        },
        "outputId": "fd8a1a7e-ab06-42ce-d7b7-d20b56920a0c"
      },
      "source": [
        "#Now we need to tokenize our text by passing it through flair.data.Sentence(<TEXT HERE>) and calling the .predict method on our model.\n",
        "# we then call score to get our confidence/probability score, and value for the POSITIVE/NEGATIVE prediction:\n",
        "\n",
        "# pip install flair\n",
        "# If you have issues installing Flair, it is due to your PyTorch/Tensorflow installations. Go to work in Google Colab\n",
        "\n",
        "import flair\n",
        "sentiment_model = flair.models.TextClassifier.load('en-sentiment')"
      ],
      "execution_count": null,
      "outputs": [
        {
          "output_type": "stream",
          "text": [
            "2021-07-17 11:16:46,175 loading file /root/.flair/models/sentiment-en-mix-distillbert_4.pt\n"
          ],
          "name": "stdout"
        }
      ]
    },
    {
      "cell_type": "code",
      "metadata": {
        "id": "5VOcZIwh1Djk",
        "colab": {
          "base_uri": "https://localhost:8080/",
          "height": 142
        },
        "outputId": "afc2edb3-a00b-4883-c338-4844ffc868e4"
      },
      "source": [
        "probability = []\n",
        "sentiments = []\n",
        "\n",
        "for text in news_df['News Headline'].to_list():\n",
        "    # make prediction\n",
        "    sentence = flair.data.Sentence(text)\n",
        "    sentiment_model.predict(sentence)\n",
        "    # extract sentiment prediction\n",
        "    probability.append(sentence.labels[0].score)  # numerical score 0-1\n",
        "    sentiments.append(sentence.labels[0].value)  # 'POSITIVE' or 'NEGATIVE'\n",
        "\n",
        "# add probability and sentiment predictions to tweets dataframe\n",
        "news_df['Sentiment'] = sentiments\n",
        "news_df['Probability'] = probability\n",
        "\n",
        "news_df.head(3)"
      ],
      "execution_count": null,
      "outputs": [
        {
          "output_type": "execute_result",
          "data": {
            "text/html": [
              "<div>\n",
              "<style scoped>\n",
              "    .dataframe tbody tr th:only-of-type {\n",
              "        vertical-align: middle;\n",
              "    }\n",
              "\n",
              "    .dataframe tbody tr th {\n",
              "        vertical-align: top;\n",
              "    }\n",
              "\n",
              "    .dataframe thead th {\n",
              "        text-align: right;\n",
              "    }\n",
              "</style>\n",
              "<table border=\"1\" class=\"dataframe\">\n",
              "  <thead>\n",
              "    <tr style=\"text-align: right;\">\n",
              "      <th></th>\n",
              "      <th>Company</th>\n",
              "      <th>Date</th>\n",
              "      <th>Time</th>\n",
              "      <th>News Headline</th>\n",
              "      <th>Sentiment</th>\n",
              "      <th>Probability</th>\n",
              "    </tr>\n",
              "  </thead>\n",
              "  <tbody>\n",
              "    <tr>\n",
              "      <th>0</th>\n",
              "      <td>AAPL</td>\n",
              "      <td>2021-07-17</td>\n",
              "      <td>10:13AM</td>\n",
              "      <td>ive used apple airpods for years now heres wha...</td>\n",
              "      <td>POSITIVE</td>\n",
              "      <td>0.986938</td>\n",
              "    </tr>\n",
              "    <tr>\n",
              "      <th>1</th>\n",
              "      <td>AAPL</td>\n",
              "      <td>2021-07-17</td>\n",
              "      <td>08:21AM</td>\n",
              "      <td>how hbo max netflix disney secured dominance o...</td>\n",
              "      <td>POSITIVE</td>\n",
              "      <td>0.986208</td>\n",
              "    </tr>\n",
              "    <tr>\n",
              "      <th>2</th>\n",
              "      <td>AAPL</td>\n",
              "      <td>2021-07-17</td>\n",
              "      <td>08:00AM</td>\n",
              "      <td>is this apple supplier a buy before its next e...</td>\n",
              "      <td>NEGATIVE</td>\n",
              "      <td>0.986854</td>\n",
              "    </tr>\n",
              "  </tbody>\n",
              "</table>\n",
              "</div>"
            ],
            "text/plain": [
              "  Company        Date  ... Sentiment Probability\n",
              "0    AAPL  2021-07-17  ...  POSITIVE    0.986938\n",
              "1    AAPL  2021-07-17  ...  POSITIVE    0.986208\n",
              "2    AAPL  2021-07-17  ...  NEGATIVE    0.986854\n",
              "\n",
              "[3 rows x 6 columns]"
            ]
          },
          "metadata": {
            "tags": []
          },
          "execution_count": 323
        }
      ]
    },
    {
      "cell_type": "markdown",
      "metadata": {
        "id": "fCEpyHsj1ZH6"
      },
      "source": [
        "create a function to get sentiment scores (neg, pos, neu, & compound). \n",
        "The compound score is a metric that calculates the sum of all the lexicon ratings which have been normalized between -1(most extreme negative) and +1 (most extreme positive).\n",
        "Pos is the positive percentage score, neg is the negative percentage score, and neu is the neutral percentage score.\n",
        "The total for %pos + %neg + %neu = 100%"
      ]
    },
    {
      "cell_type": "code",
      "metadata": {
        "colab": {
          "base_uri": "https://localhost:8080/"
        },
        "id": "kyPrOSck5NaU",
        "outputId": "c094275e-cd6f-4fae-9756-9cdc0bdf2967"
      },
      "source": [
        "pip install vaderSentiment"
      ],
      "execution_count": null,
      "outputs": [
        {
          "output_type": "stream",
          "text": [
            "Collecting vaderSentiment\n",
            "\u001b[?25l  Downloading https://files.pythonhosted.org/packages/76/fc/310e16254683c1ed35eeb97386986d6c00bc29df17ce280aed64d55537e9/vaderSentiment-3.3.2-py2.py3-none-any.whl (125kB)\n",
            "\r\u001b[K     |██▋                             | 10kB 14.0MB/s eta 0:00:01\r\u001b[K     |█████▏                          | 20kB 8.9MB/s eta 0:00:01\r\u001b[K     |███████▉                        | 30kB 7.6MB/s eta 0:00:01\r\u001b[K     |██████████▍                     | 40kB 7.2MB/s eta 0:00:01\r\u001b[K     |█████████████                   | 51kB 5.0MB/s eta 0:00:01\r\u001b[K     |███████████████▋                | 61kB 5.6MB/s eta 0:00:01\r\u001b[K     |██████████████████▏             | 71kB 5.9MB/s eta 0:00:01\r\u001b[K     |████████████████████▉           | 81kB 5.9MB/s eta 0:00:01\r\u001b[K     |███████████████████████▍        | 92kB 6.2MB/s eta 0:00:01\r\u001b[K     |██████████████████████████      | 102kB 5.2MB/s eta 0:00:01\r\u001b[K     |████████████████████████████▋   | 112kB 5.2MB/s eta 0:00:01\r\u001b[K     |███████████████████████████████▏| 122kB 5.2MB/s eta 0:00:01\r\u001b[K     |████████████████████████████████| 133kB 5.2MB/s \n",
            "\u001b[?25hRequirement already satisfied: requests in /usr/local/lib/python3.7/dist-packages (from vaderSentiment) (2.23.0)\n",
            "Requirement already satisfied: chardet<4,>=3.0.2 in /usr/local/lib/python3.7/dist-packages (from requests->vaderSentiment) (3.0.4)\n",
            "Requirement already satisfied: certifi>=2017.4.17 in /usr/local/lib/python3.7/dist-packages (from requests->vaderSentiment) (2021.5.30)\n",
            "Requirement already satisfied: idna<3,>=2.5 in /usr/local/lib/python3.7/dist-packages (from requests->vaderSentiment) (2.10)\n",
            "Requirement already satisfied: urllib3!=1.25.0,!=1.25.1,<1.26,>=1.21.1 in /usr/local/lib/python3.7/dist-packages (from requests->vaderSentiment) (1.24.3)\n",
            "Installing collected packages: vaderSentiment\n",
            "Successfully installed vaderSentiment-3.3.2\n"
          ],
          "name": "stdout"
        }
      ]
    },
    {
      "cell_type": "code",
      "metadata": {
        "colab": {
          "base_uri": "https://localhost:8080/"
        },
        "id": "LQJDmNQD1jst",
        "outputId": "3a44b05f-fced-4096-8be4-cfeea3c0b39b"
      },
      "source": [
        "# first import libraries\n",
        "# With NLTK (Natural Language Toolkit) comes a beautiful submodule called vader that allows us to pass in a string into its function \n",
        "# and get back the (neg, pos, neu, & compound)\n",
        "import nltk\n",
        "nltk.download('vader_lexicon')\n",
        "from vaderSentiment.vaderSentiment import SentimentIntensityAnalyzer #must have pip install vaderSentiment"
      ],
      "execution_count": null,
      "outputs": [
        {
          "output_type": "stream",
          "text": [
            "[nltk_data] Downloading package vader_lexicon to /root/nltk_data...\n",
            "[nltk_data]   Package vader_lexicon is already up-to-date!\n"
          ],
          "name": "stdout"
        }
      ]
    },
    {
      "cell_type": "code",
      "metadata": {
        "id": "padlCoYj1h6d"
      },
      "source": [
        "#function to get the sentiment scores (using Sentiment Intensity Analyzer)\n",
        "def getSIA(text):\n",
        "  analyzer = SentimentIntensityAnalyzer()\n",
        "  sentiment = analyzer.polarity_scores(text)\n",
        "  return sentiment"
      ],
      "execution_count": null,
      "outputs": []
    },
    {
      "cell_type": "code",
      "metadata": {
        "id": "hfM8WtIk1whT",
        "colab": {
          "base_uri": "https://localhost:8080/",
          "height": 204
        },
        "outputId": "803f8254-e11d-4c61-d75a-de44726c4401"
      },
      "source": [
        "#Get the sentiment scores #for each day\n",
        "\n",
        "compound = []\n",
        "neg = []\n",
        "neu = []\n",
        "pos = []\n",
        "SIA = 0\n",
        "for i in range(0, len(news_df['News Headline'])):\n",
        "  SIA = getSIA(news_df['News Headline'][i])\n",
        "  compound.append(SIA['compound'])\n",
        "  neg.append(SIA['neg'])\n",
        "  neu.append(SIA['neu'])\n",
        "  pos.append(SIA['pos'])\n",
        "\n",
        "#Store the sentiment scores in the data frame\n",
        "news_df['Negative'] =neg\n",
        "news_df['Neutral'] =neu\n",
        "news_df['Positive'] = pos\n",
        "news_df['Compound'] =compound\n",
        "\n",
        "news_df.head() \n",
        "# Here is we done with the very fine sentiment analysis"
      ],
      "execution_count": null,
      "outputs": [
        {
          "output_type": "execute_result",
          "data": {
            "text/html": [
              "<div>\n",
              "<style scoped>\n",
              "    .dataframe tbody tr th:only-of-type {\n",
              "        vertical-align: middle;\n",
              "    }\n",
              "\n",
              "    .dataframe tbody tr th {\n",
              "        vertical-align: top;\n",
              "    }\n",
              "\n",
              "    .dataframe thead th {\n",
              "        text-align: right;\n",
              "    }\n",
              "</style>\n",
              "<table border=\"1\" class=\"dataframe\">\n",
              "  <thead>\n",
              "    <tr style=\"text-align: right;\">\n",
              "      <th></th>\n",
              "      <th>Company</th>\n",
              "      <th>Date</th>\n",
              "      <th>Time</th>\n",
              "      <th>News Headline</th>\n",
              "      <th>Sentiment</th>\n",
              "      <th>Probability</th>\n",
              "      <th>Negative</th>\n",
              "      <th>Neutral</th>\n",
              "      <th>Positive</th>\n",
              "      <th>Compound</th>\n",
              "    </tr>\n",
              "  </thead>\n",
              "  <tbody>\n",
              "    <tr>\n",
              "      <th>0</th>\n",
              "      <td>AAPL</td>\n",
              "      <td>2021-07-17</td>\n",
              "      <td>10:13AM</td>\n",
              "      <td>ive used apple airpods for years now heres wha...</td>\n",
              "      <td>POSITIVE</td>\n",
              "      <td>0.986938</td>\n",
              "      <td>0.0</td>\n",
              "      <td>0.757</td>\n",
              "      <td>0.243</td>\n",
              "      <td>0.7269</td>\n",
              "    </tr>\n",
              "    <tr>\n",
              "      <th>1</th>\n",
              "      <td>AAPL</td>\n",
              "      <td>2021-07-17</td>\n",
              "      <td>08:21AM</td>\n",
              "      <td>how hbo max netflix disney secured dominance o...</td>\n",
              "      <td>POSITIVE</td>\n",
              "      <td>0.986208</td>\n",
              "      <td>0.0</td>\n",
              "      <td>0.690</td>\n",
              "      <td>0.310</td>\n",
              "      <td>0.5423</td>\n",
              "    </tr>\n",
              "    <tr>\n",
              "      <th>2</th>\n",
              "      <td>AAPL</td>\n",
              "      <td>2021-07-17</td>\n",
              "      <td>08:00AM</td>\n",
              "      <td>is this apple supplier a buy before its next e...</td>\n",
              "      <td>NEGATIVE</td>\n",
              "      <td>0.986854</td>\n",
              "      <td>0.0</td>\n",
              "      <td>1.000</td>\n",
              "      <td>0.000</td>\n",
              "      <td>0.0000</td>\n",
              "    </tr>\n",
              "    <tr>\n",
              "      <th>3</th>\n",
              "      <td>AAPL</td>\n",
              "      <td>2021-07-17</td>\n",
              "      <td>07:00AM</td>\n",
              "      <td>big contrarian investor sold apple microsoft s...</td>\n",
              "      <td>NEGATIVE</td>\n",
              "      <td>0.998000</td>\n",
              "      <td>0.0</td>\n",
              "      <td>1.000</td>\n",
              "      <td>0.000</td>\n",
              "      <td>0.0000</td>\n",
              "    </tr>\n",
              "    <tr>\n",
              "      <th>4</th>\n",
              "      <td>AAPL</td>\n",
              "      <td>2021-07-16</td>\n",
              "      <td>07:22PM</td>\n",
              "      <td>tech earnings start monday here are 5 trends t...</td>\n",
              "      <td>POSITIVE</td>\n",
              "      <td>0.984099</td>\n",
              "      <td>0.0</td>\n",
              "      <td>1.000</td>\n",
              "      <td>0.000</td>\n",
              "      <td>0.0000</td>\n",
              "    </tr>\n",
              "  </tbody>\n",
              "</table>\n",
              "</div>"
            ],
            "text/plain": [
              "  Company        Date       Time  ... Neutral Positive  Compound\n",
              "0    AAPL  2021-07-17  10:13AM    ...   0.757    0.243    0.7269\n",
              "1    AAPL  2021-07-17  08:21AM    ...   0.690    0.310    0.5423\n",
              "2    AAPL  2021-07-17  08:00AM    ...   1.000    0.000    0.0000\n",
              "3    AAPL  2021-07-17  07:00AM    ...   1.000    0.000    0.0000\n",
              "4    AAPL  2021-07-16  07:22PM    ...   1.000    0.000    0.0000\n",
              "\n",
              "[5 rows x 10 columns]"
            ]
          },
          "metadata": {
            "tags": []
          },
          "execution_count": 325
        }
      ]
    },
    {
      "cell_type": "code",
      "metadata": {
        "id": "0rTRSJO91wu6",
        "colab": {
          "base_uri": "https://localhost:8080/",
          "height": 344
        },
        "outputId": "5b4dfb58-3666-4db9-b1ea-027bfe646225"
      },
      "source": [
        "# Let visualize this data to see how our Stocks fared every day from public perception in news articles.\n",
        "# Let's visualize the results in a bar chart, by grouping the data based on the stock_company and dates:\n",
        "plt.figure(figsize=(15,10))\n",
        "df_plt = news_df.groupby(['Company', 'Date']).mean().unstack() # .unstack() function helped us to unstack the company column.\n",
        "df_plt = df_plt.xs('Compound', axis=\"columns\").transpose() # .transpose() function helped us obtain the cross-section of compound in the columns axis.\n",
        "df_plt.plot(kind='bar')\n",
        "plt.show()"
      ],
      "execution_count": null,
      "outputs": [
        {
          "output_type": "display_data",
          "data": {
            "text/plain": [
              "<Figure size 1080x720 with 0 Axes>"
            ]
          },
          "metadata": {
            "tags": []
          }
        },
        {
          "output_type": "display_data",
          "data": {
            "image/png": "[encoded data removed]",
            "text/plain": [
              "<Figure size 432x288 with 1 Axes>"
            ]
          },
          "metadata": {
            "tags": [],
            "needs_background": "light"
          }
        }
      ]
    },
    {
      "cell_type": "code",
      "metadata": {
        "colab": {
          "base_uri": "https://localhost:8080/",
          "height": 564
        },
        "id": "Oztz-AwO2oMn",
        "outputId": "9ffa01dc-7518-409c-953b-8ed0a697f9a5"
      },
      "source": [
        "pip install yfinance"
      ],
      "execution_count": null,
      "outputs": [
        {
          "output_type": "stream",
          "text": [
            "Collecting yfinance\n",
            "  Downloading https://files.pythonhosted.org/packages/79/bd/d64719da8f5367f4d8b16e83507fa1d90942f433f748a4cf3ed7aa515d14/yfinance-0.1.63.tar.gz\n",
            "Requirement already satisfied: pandas>=0.24 in /usr/local/lib/python3.7/dist-packages (from yfinance) (1.1.5)\n",
            "Requirement already satisfied: numpy>=1.15 in /usr/local/lib/python3.7/dist-packages (from yfinance) (1.19.5)\n",
            "Requirement already satisfied: requests>=2.20 in /usr/local/lib/python3.7/dist-packages (from yfinance) (2.23.0)\n",
            "Requirement already satisfied: multitasking>=0.0.7 in /usr/local/lib/python3.7/dist-packages (from yfinance) (0.0.9)\n",
            "Collecting lxml>=4.5.1\n",
            "\u001b[?25l  Downloading https://files.pythonhosted.org/packages/30/c0/d0526314971fc661b083ab135747dc68446a3022686da8c16d25fcf6ef07/lxml-4.6.3-cp37-cp37m-manylinux2014_x86_64.whl (6.3MB)\n",
            "\u001b[K     |████████████████████████████████| 6.3MB 7.8MB/s \n",
            "\u001b[?25hRequirement already satisfied: python-dateutil>=2.7.3 in /usr/local/lib/python3.7/dist-packages (from pandas>=0.24->yfinance) (2.8.1)\n",
            "Requirement already satisfied: pytz>=2017.2 in /usr/local/lib/python3.7/dist-packages (from pandas>=0.24->yfinance) (2018.9)\n",
            "Requirement already satisfied: chardet<4,>=3.0.2 in /usr/local/lib/python3.7/dist-packages (from requests>=2.20->yfinance) (3.0.4)\n",
            "Requirement already satisfied: urllib3!=1.25.0,!=1.25.1,<1.26,>=1.21.1 in /usr/local/lib/python3.7/dist-packages (from requests>=2.20->yfinance) (1.24.3)\n",
            "Requirement already satisfied: certifi>=2017.4.17 in /usr/local/lib/python3.7/dist-packages (from requests>=2.20->yfinance) (2021.5.30)\n",
            "Requirement already satisfied: idna<3,>=2.5 in /usr/local/lib/python3.7/dist-packages (from requests>=2.20->yfinance) (2.10)\n",
            "Requirement already satisfied: six>=1.5 in /usr/local/lib/python3.7/dist-packages (from python-dateutil>=2.7.3->pandas>=0.24->yfinance) (1.15.0)\n",
            "Building wheels for collected packages: yfinance\n",
            "  Building wheel for yfinance (setup.py) ... \u001b[?25l\u001b[?25hdone\n",
            "  Created wheel for yfinance: filename=yfinance-0.1.63-py2.py3-none-any.whl size=23919 sha256=dd82851b6e499a106eeac604068c61b029057fbd243515126f9c9696d5cbdfda\n",
            "  Stored in directory: /root/.cache/pip/wheels/fe/a0/79/b73d4a0c535b421b88fc7b393936b371fabbfeaf979eca4050\n",
            "Successfully built yfinance\n",
            "Installing collected packages: lxml, yfinance\n",
            "  Found existing installation: lxml 4.2.6\n",
            "    Uninstalling lxml-4.2.6:\n",
            "      Successfully uninstalled lxml-4.2.6\n",
            "Successfully installed lxml-4.6.3 yfinance-0.1.63\n"
          ],
          "name": "stdout"
        },
        {
          "output_type": "display_data",
          "data": {
            "application/vnd.colab-display-data+json": {
              "pip_warning": {
                "packages": [
                  "lxml"
                ]
              }
            }
          },
          "metadata": {
            "tags": []
          }
        }
      ]
    },
    {
      "cell_type": "code",
      "metadata": {
        "id": "1hL5Xlo6cAam"
      },
      "source": [
        "# Now we scarp our historic stock data of one year from yahoo finance ysisng yfinace library\n",
        "# Here we will only store the close prcices of 5 mentioned stocks\n",
        "import yfinance as yf # must have pip install yfinance\n",
        "from statsmodels import api as sm"
      ],
      "execution_count": null,
      "outputs": []
    },
    {
      "cell_type": "code",
      "metadata": {
        "colab": {
          "base_uri": "https://localhost:8080/"
        },
        "id": "6ZKLbHTccK7g",
        "outputId": "94b9504e-6268-4e15-810e-1b3e9156d05b"
      },
      "source": [
        "companies = ['AAPL','AMZN', 'GOOG', 'FB', 'TSLA']\n",
        "stock_list = []\n",
        "for stock in companies:\n",
        "  ticker = yf.Ticker(stock)\n",
        "  returns = ticker.history(period=\"5y\") # stock data for five year from today back into July 2016\n",
        "  returns['returns'] =  returns['Close'] # Only store Close Column, we can store the whole stock data by skipping this line but we only need the Close price\n",
        "\n",
        "  returns.rename(columns={'returns': stock}, inplace=True)\n",
        "  returns = returns[stock]\n",
        "  stock_list.append(returns)\n",
        "\n",
        "all_stock_df =pd.DataFrame(stock_list).T\n",
        "print(all_stock_df)\n",
        "\n",
        "# if you want to save the file in your system in csv form\n",
        "#all_stock_df.to_csv('Stocks_df') "
      ],
      "execution_count": null,
      "outputs": [
        {
          "output_type": "stream",
          "text": [
            "                  AAPL         AMZN         GOOG          FB        TSLA\n",
            "Date                                                                    \n",
            "2016-07-18   23.314920   736.070007   733.780029  119.370003   45.250000\n",
            "2016-07-19   23.324263   739.950012   736.960022  120.610001   45.051998\n",
            "2016-07-20   23.345284   745.719971   741.190002  121.919998   45.672001\n",
            "2016-07-21   23.221504   744.429993   738.630005  120.610001   44.099998\n",
            "2016-07-22   23.041672   744.859985   742.739990  121.000000   44.453999\n",
            "...                ...          ...          ...         ...         ...\n",
            "2021-07-12  144.500000  3718.550049  2611.280029  353.160004  685.700012\n",
            "2021-07-13  145.639999  3677.360107  2619.889893  352.089996  668.539978\n",
            "2021-07-14  149.149994  3681.679932  2641.649902  347.630005  653.380005\n",
            "2021-07-15  148.479996  3631.199951  2625.330078  344.459991  650.599976\n",
            "2021-07-16  146.389999  3573.629883  2636.909912  341.160004  644.219971\n",
            "\n",
            "[1259 rows x 5 columns]\n"
          ],
          "name": "stdout"
        }
      ]
    },
    {
      "cell_type": "code",
      "metadata": {
        "colab": {
          "base_uri": "https://localhost:8080/"
        },
        "id": "yx9EIzM1j-4f",
        "outputId": "6cdf2573-95fa-47e7-b077-1c53cb95b21f"
      },
      "source": [
        "# Now we want to compare the relationship between the stock returns and our sentiment score.\n",
        "# Note that in our news_df there are just few dates articles so we now scrap the historic data accourding to the max and min dates of the news_df\n",
        "# Saving this in a new DataFrame\n",
        "#Also we calculate and store the daily return of each stock's close prices by dividing today’s prices by yesterday’s \n",
        "companies =['AAPL','AMZN','FB','GOOG','TSLA']\n",
        "stock_list = []\n",
        "for stock in companies:\n",
        "  ticker = yf.Ticker(stock)\n",
        "  returns = ticker.history(start=(news_df['Date'].min()).strftime('%Y-%m-%d'), end=news_df['Date'].max().strftime('%Y-%m-%d'))\n",
        "  returns['returns'] =  returns['Close'] # just store Close\n",
        "  returns['Daily_Return'] = returns['Close']/returns['Close'].shift(1) - 1 # calculate daily returns\n",
        "\n",
        "  returns.rename(columns={'returns': stock+'_Close', 'Daily_Return': stock+'_Daily_Return'}, inplace=True)\n",
        "  return1 = returns[stock+'_Close']\n",
        "  return2 = returns[stock+'_Daily_Return']\n",
        "  stock_list.append(return1)\n",
        "  stock_list.append(return2)\n",
        "  \n",
        "\n",
        "all_stock_df2 =pd.DataFrame(stock_list).T\n",
        "print(all_stock_df2)"
      ],
      "execution_count": null,
      "outputs": [
        {
          "output_type": "stream",
          "text": [
            "            AAPL_Close  AAPL_Daily_Return  ...  TSLA_Close  TSLA_Daily_Return\n",
            "Date                                       ...                               \n",
            "2021-07-07  144.570007                NaN  ...  644.650024                NaN\n",
            "2021-07-08  143.240005          -0.009200  ...  652.809998           0.012658\n",
            "2021-07-09  145.110001           0.013055  ...  656.950012           0.006342\n",
            "2021-07-12  144.500000          -0.004204  ...  685.700012           0.043763\n",
            "2021-07-13  145.639999           0.007889  ...  668.539978          -0.025026\n",
            "2021-07-14  149.149994           0.024100  ...  653.380005          -0.022676\n",
            "2021-07-15  148.479996          -0.004492  ...  650.599976          -0.004255\n",
            "\n",
            "[7 rows x 10 columns]\n"
          ],
          "name": "stdout"
        }
      ]
    },
    {
      "cell_type": "code",
      "metadata": {
        "colab": {
          "base_uri": "https://localhost:8080/",
          "height": 235
        },
        "id": "5Bo9BkUNj_H4",
        "outputId": "daba28b8-e930-43f6-d907-4c534abbe4a8"
      },
      "source": [
        "# Aggregate daily sentiment scores by taking the max score in a particular day of a particular stock\n",
        "news_df2 = news_df.groupby(['Company','Date']).max() # Aggregade\n",
        "# Lagged the sentiment score\n",
        "news_df2['Score'] = news_df2['Compound'].shift(1)\n",
        "news_df2.head()"
      ],
      "execution_count": null,
      "outputs": [
        {
          "output_type": "execute_result",
          "data": {
            "text/html": [
              "<div>\n",
              "<style scoped>\n",
              "    .dataframe tbody tr th:only-of-type {\n",
              "        vertical-align: middle;\n",
              "    }\n",
              "\n",
              "    .dataframe tbody tr th {\n",
              "        vertical-align: top;\n",
              "    }\n",
              "\n",
              "    .dataframe thead th {\n",
              "        text-align: right;\n",
              "    }\n",
              "</style>\n",
              "<table border=\"1\" class=\"dataframe\">\n",
              "  <thead>\n",
              "    <tr style=\"text-align: right;\">\n",
              "      <th></th>\n",
              "      <th></th>\n",
              "      <th>Time</th>\n",
              "      <th>News Headline</th>\n",
              "      <th>Probability</th>\n",
              "      <th>Sentiment</th>\n",
              "      <th>Negative</th>\n",
              "      <th>Neutral</th>\n",
              "      <th>Positive</th>\n",
              "      <th>Compound</th>\n",
              "      <th>Score</th>\n",
              "    </tr>\n",
              "    <tr>\n",
              "      <th>Company</th>\n",
              "      <th>Date</th>\n",
              "      <th></th>\n",
              "      <th></th>\n",
              "      <th></th>\n",
              "      <th></th>\n",
              "      <th></th>\n",
              "      <th></th>\n",
              "      <th></th>\n",
              "      <th></th>\n",
              "      <th></th>\n",
              "    </tr>\n",
              "  </thead>\n",
              "  <tbody>\n",
              "    <tr>\n",
              "      <th rowspan=\"4\" valign=\"top\">AAPL</th>\n",
              "      <th>2021-07-13</th>\n",
              "      <td>11:22PM</td>\n",
              "      <td>why affirm holdings stock was sinking today</td>\n",
              "      <td>0.999959</td>\n",
              "      <td>POSITIVE</td>\n",
              "      <td>0.321</td>\n",
              "      <td>1.0</td>\n",
              "      <td>0.223</td>\n",
              "      <td>0.3400</td>\n",
              "      <td>NaN</td>\n",
              "    </tr>\n",
              "    <tr>\n",
              "      <th>2021-07-14</th>\n",
              "      <td>12:55PM</td>\n",
              "      <td>wells fargo apple microsoft broadcom jerome po...</td>\n",
              "      <td>0.999895</td>\n",
              "      <td>POSITIVE</td>\n",
              "      <td>0.224</td>\n",
              "      <td>1.0</td>\n",
              "      <td>0.505</td>\n",
              "      <td>0.7650</td>\n",
              "      <td>0.3400</td>\n",
              "    </tr>\n",
              "    <tr>\n",
              "      <th>2021-07-15</th>\n",
              "      <td>12:35PM</td>\n",
              "      <td>xiaomi overtakes apple as worlds no 2 phone ma...</td>\n",
              "      <td>0.999792</td>\n",
              "      <td>POSITIVE</td>\n",
              "      <td>0.239</td>\n",
              "      <td>1.0</td>\n",
              "      <td>0.289</td>\n",
              "      <td>0.6808</td>\n",
              "      <td>0.7650</td>\n",
              "    </tr>\n",
              "    <tr>\n",
              "      <th>2021-07-16</th>\n",
              "      <td>12:47AM</td>\n",
              "      <td>xiaomi up 4 on overtaking apple as second larg...</td>\n",
              "      <td>0.999845</td>\n",
              "      <td>POSITIVE</td>\n",
              "      <td>0.355</td>\n",
              "      <td>1.0</td>\n",
              "      <td>0.417</td>\n",
              "      <td>0.6249</td>\n",
              "      <td>0.6808</td>\n",
              "    </tr>\n",
              "    <tr>\n",
              "      <th>AMZN</th>\n",
              "      <th>2021-07-13</th>\n",
              "      <td>12:49PM</td>\n",
              "      <td>why the billionaire space race could help huma...</td>\n",
              "      <td>0.999550</td>\n",
              "      <td>POSITIVE</td>\n",
              "      <td>0.545</td>\n",
              "      <td>1.0</td>\n",
              "      <td>0.694</td>\n",
              "      <td>0.7783</td>\n",
              "      <td>0.6249</td>\n",
              "    </tr>\n",
              "  </tbody>\n",
              "</table>\n",
              "</div>"
            ],
            "text/plain": [
              "                         Time  ...   Score\n",
              "Company Date                   ...        \n",
              "AAPL    2021-07-13  11:22PM    ...     NaN\n",
              "        2021-07-14  12:55PM    ...  0.3400\n",
              "        2021-07-15  12:35PM    ...  0.7650\n",
              "        2021-07-16  12:47AM    ...  0.6808\n",
              "AMZN    2021-07-13  12:49PM    ...  0.6249\n",
              "\n",
              "[5 rows x 9 columns]"
            ]
          },
          "metadata": {
            "tags": []
          },
          "execution_count": 23
        }
      ]
    },
    {
      "cell_type": "code",
      "metadata": {
        "colab": {
          "base_uri": "https://localhost:8080/"
        },
        "id": "MZVXq3STnEwl",
        "outputId": "596051f8-6688-4d7e-d72d-fa6a6dec42ab"
      },
      "source": [
        "# To match the daily returns against the corresponding sentiment scores merge the df taking a particular stock\n",
        "AAPL_merge_df = pd.merge(all_stock_df2[['AAPL_Daily_Return']], pd.DataFrame(news_df2.loc['AAPL']['Score']), left_index=True,right_index=True, how='left')\n",
        "# replace NaN with 0 permanently\n",
        "AAPL_merge_df.fillna(0, inplace=True) \n",
        "print(AAPL_merge_df)"
      ],
      "execution_count": null,
      "outputs": [
        {
          "output_type": "stream",
          "text": [
            "            AAPL_Daily_Return  Score\n",
            "Date                                \n",
            "2021-07-07           0.000000  0.000\n",
            "2021-07-08          -0.009200  0.000\n",
            "2021-07-09           0.013055  0.000\n",
            "2021-07-12          -0.004204  0.000\n",
            "2021-07-13           0.007889  0.000\n",
            "2021-07-14           0.024100  0.340\n",
            "2021-07-15          -0.004492  0.765\n"
          ],
          "name": "stdout"
        }
      ]
    },
    {
      "cell_type": "code",
      "metadata": {
        "id": "NJbjl7s-n1MF"
      },
      "source": [
        "# AMZN\n",
        "AMZN_merge_df = pd.merge(all_stock_df2[['AMZN_Daily_Return']], pd.DataFrame(news_df2.loc['AMZN']['Score']), left_index=True,right_index=True, how='left')\n",
        "AMZN_merge_df.fillna(0, inplace=True)\n",
        "\n",
        "# GOOG\n",
        "GOOG_merge_df = pd.merge(all_stock_df2[['GOOG_Daily_Return']], pd.DataFrame(news_df2.loc['GOOG']['Score']), left_index=True,right_index=True, how='left')\n",
        "GOOG_merge_df.fillna(0, inplace=True)\n",
        "\n",
        "# FB\n",
        "FB_merge_df = pd.merge(all_stock_df2[['FB_Daily_Return']], pd.DataFrame(news_df2.loc['FB']['Score']), left_index=True,right_index=True, how='left')\n",
        "FB_merge_df.fillna(0, inplace=True)\n",
        "\n",
        "# TSLA\n",
        "TSLA_merge_df = pd.merge(all_stock_df2[['TSLA_Daily_Return']], pd.DataFrame(news_df2.loc['TSLA']['Score']), left_index=True,right_index=True, how='left')\n",
        "TSLA_merge_df.fillna(0, inplace=True)"
      ],
      "execution_count": null,
      "outputs": []
    },
    {
      "cell_type": "code",
      "metadata": {
        "colab": {
          "base_uri": "https://localhost:8080/"
        },
        "id": "OxzoW1pnn1YH",
        "outputId": "73c8eda3-9521-49d4-e03f-1ff45aed7204"
      },
      "source": [
        "# Check relationship (correlation) between lagged score against stock daily returns of all stocks\n",
        "# merge_df.plot(x='Score', y='AAPL_Daily_Return', style='o')\n",
        "AAPL_cor = AAPL_merge_df['AAPL_Daily_Return'].corr(AAPL_merge_df['Score']) \n",
        "print('Correlation of AAPL_daily return and AAPL sentiment score: ', AAPL_cor) # wooow very good correlation. SSo thats it\n",
        "\n",
        "AMZN_cor = AMZN_merge_df['AMZN_Daily_Return'].corr(AMZN_merge_df['Score']) \n",
        "print('Correlation of AMZN_daily return and AMZN sentiment score: ', AMZN_cor)\n",
        "\n",
        "GOOG_cor = GOOG_merge_df['GOOG_Daily_Return'].corr(GOOG_merge_df['Score']) \n",
        "print('Correlation of GOOG_daily return and GOOG sentiment score: ', GOOG_cor)\n",
        "\n",
        "FB_cor = FB_merge_df['FB_Daily_Return'].corr(FB_merge_df['Score']) \n",
        "print('Correlation of FB_daily return and FB sentiment score: ', FB_cor)\n",
        "\n",
        "TSLA_cor = TSLA_merge_df['TSLA_Daily_Return'].corr(TSLA_merge_df['Score']) \n",
        "print('Correlation of TSLA_daily return and TSLA sentiment score: ', TSLA_cor)\n",
        "\n",
        "# Woow we got very good correlation score by the sentimental analysis "
      ],
      "execution_count": null,
      "outputs": [
        {
          "output_type": "stream",
          "text": [
            "Correlation of AAPL_daily return and AAPL sentiment score:  0.02257205564665253\n",
            "Correlation of AMZN_daily return and AMZN sentiment score:  -0.5885816736959857\n",
            "Correlation of GOOG_daily return and GOOG sentiment score:  0.15354469650827046\n",
            "Correlation of FB_daily return and FB sentiment score:  -0.8029452544541351\n",
            "Correlation of TSLA_daily return and TSLA sentiment score:  -0.2272453908756808\n"
          ],
          "name": "stdout"
        }
      ]
    },
    {
      "cell_type": "code",
      "metadata": {
        "id": "9kLCD1Blj_W_"
      },
      "source": [
        ""
      ],
      "execution_count": null,
      "outputs": []
    },
    {
      "cell_type": "code",
      "metadata": {
        "colab": {
          "base_uri": "https://localhost:8080/"
        },
        "id": "JT42wfKLorDJ",
        "outputId": "99eb34bc-296c-4ae3-aec3-8dbb23eecfa6"
      },
      "source": [
        "# Now we want to apply ML algorithm on the all_stock_df \n",
        "# Lets see our all_stock_df first\n",
        "print(all_stock_df)"
      ],
      "execution_count": null,
      "outputs": [
        {
          "output_type": "stream",
          "text": [
            "                  AAPL         AMZN         GOOG          FB        TSLA\n",
            "Date                                                                    \n",
            "2016-07-18   23.314920   736.070007   733.780029  119.370003   45.250000\n",
            "2016-07-19   23.324263   739.950012   736.960022  120.610001   45.051998\n",
            "2016-07-20   23.345284   745.719971   741.190002  121.919998   45.672001\n",
            "2016-07-21   23.221504   744.429993   738.630005  120.610001   44.099998\n",
            "2016-07-22   23.041672   744.859985   742.739990  121.000000   44.453999\n",
            "...                ...          ...          ...         ...         ...\n",
            "2021-07-12  144.500000  3718.550049  2611.280029  353.160004  685.700012\n",
            "2021-07-13  145.639999  3677.360107  2619.889893  352.089996  668.539978\n",
            "2021-07-14  149.149994  3681.679932  2641.649902  347.630005  653.380005\n",
            "2021-07-15  148.479996  3631.199951  2625.330078  344.459991  650.599976\n",
            "2021-07-16  146.389999  3573.629883  2636.909912  341.160004  644.219971\n",
            "\n",
            "[1259 rows x 5 columns]\n"
          ],
          "name": "stdout"
        }
      ]
    },
    {
      "cell_type": "code",
      "metadata": {
        "colab": {
          "base_uri": "https://localhost:8080/",
          "height": 527
        },
        "id": "FW4nivJPDOAz",
        "outputId": "831943ae-4a2c-47f5-e954-7fdd79157422"
      },
      "source": [
        "# Now I plot the differents stocks data \n",
        "plt.figure(figsize=(12,8))\n",
        "plt.plot(all_stock_df['AAPL'], color='red', label='AAPL')\n",
        "plt.plot(all_stock_df['AMZN'], color='green', label='AMZN')\n",
        "plt.plot(all_stock_df['GOOG'], color='blue', label='GOOG')\n",
        "plt.plot(all_stock_df['FB'],color='yellow', label='FB')\n",
        "plt.plot(all_stock_df['TSLA'], color='orange', label= 'TSLA')\n",
        "plt.xlabel('Date',fontsize=18)\n",
        "plt.ylabel('Share Price',fontsize=18)\n",
        "plt.title('Close Prices of different Stocks',fontsize=22)\n",
        "plt.legend(loc=2)"
      ],
      "execution_count": null,
      "outputs": [
        {
          "output_type": "display_data",
          "data": {
            "image/png": "[encoded data removed]",
            "text/plain": [
              "<Figure size 864x576 with 1 Axes>"
            ]
          },
          "metadata": {
            "tags": [],
            "needs_background": "light"
          }
        }
      ]
    },
    {
      "cell_type": "markdown",
      "metadata": {
        "id": "7wSbSPa7ebWg"
      },
      "source": [
        "**LSTM - Algorithm**\n",
        "\n",
        "The algorithm here I will use for the stock price prediction is the LSTM, Long short Term Memory networks, that has been observed as the most effective solution in time series forcasting. Long short-term memory (LSTM) is a recurrent neural network (RNN) architecture used in the field of deep learning. Unlike standard feedforward neural networks, LSTM has feedback connections. It can not only process single data points, but also entire sequences of data.\n",
        "LSTM models are able to store information over a period of time\n",
        "LSTMs have an edge over conventional feed-forward neural networks and RNN in many ways. This is because of their property of selectively remembering patterns for long durations of time.\n",
        "\n",
        "Documentation:\n",
        "https://www.analyticsvidhya.com/blog/2017/12/fundamentals-of-deep-learning-introduction-to-lstm/"
      ]
    },
    {
      "cell_type": "code",
      "metadata": {
        "id": "mWsMnXZGdmgO"
      },
      "source": [
        "#importing required libraries\n",
        "from sklearn.preprocessing import MinMaxScaler # for normalization\n",
        "from keras.models import Sequential \n",
        "from keras.layers import Dense, Dropout, LSTM\n",
        "from sklearn import metrics\n",
        "import math"
      ],
      "execution_count": null,
      "outputs": []
    },
    {
      "cell_type": "markdown",
      "metadata": {
        "id": "D053RveXkHl1"
      },
      "source": [
        "**AAPL Stock Prediction using LSTM**"
      ]
    },
    {
      "cell_type": "code",
      "metadata": {
        "colab": {
          "base_uri": "https://localhost:8080/"
        },
        "id": "AaDlC3Y8kOkB",
        "outputId": "4f1e620c-4b2e-4485-b42a-aafa612a2da9"
      },
      "source": [
        "AAPL_df = pd.DataFrame(all_stock_df['AAPL'])\n",
        "AAPL_df['AAPL'] = np.round(AAPL_df['AAPL'],2) # round the decimals\n",
        "print(AAPL_df.head())"
      ],
      "execution_count": null,
      "outputs": [
        {
          "output_type": "stream",
          "text": [
            "             AAPL\n",
            "Date             \n",
            "2016-07-18  23.31\n",
            "2016-07-19  23.32\n",
            "2016-07-20  23.35\n",
            "2016-07-21  23.22\n",
            "2016-07-22  23.04\n"
          ],
          "name": "stdout"
        }
      ]
    },
    {
      "cell_type": "code",
      "metadata": {
        "colab": {
          "base_uri": "https://localhost:8080/"
        },
        "id": "t5CpCrIXkO92",
        "outputId": "0a920c99-3b05-41ec-cf72-d9e143d7f78b"
      },
      "source": [
        "# Building the data\n",
        "AAPL_dataset = AAPL_df.values\n",
        "# len(AAPL_dataset) # 1258\n",
        "AAPL_train_size = math.ceil(len(AAPL_dataset)*.8) # 80% of the total data\n",
        "# Split the data into 80% train_dataset and 20% as test_dataset\n",
        "AAPL_train_data = AAPL_dataset[0:AAPL_train_size,:]\n",
        "#AAPL_test_data = AAPL_dataset[AAPL_train_size:,:]\n",
        "# Normalize the data, this boost the performance of model\n",
        "scaler = MinMaxScaler(feature_range=(0, 1))\n",
        "AAPL_scaled_data = scaler.fit_transform(AAPL_dataset)\n",
        "\n",
        "# since we are using LSTM, we must specify the shape of input as 3 dimensional which will be the samples, the time step and the features,\n",
        "#Samples - This is the len(dataX), or the amount of data points you have.\n",
        "# Time steps - This is the point of observation in the samples. This is equivalent to the amount of time steps you run your recurrent neural network. If you want your network to have memory of 60 characters, this number should be 60.\n",
        "# Features - this is the amount of features in every time step which is the close price of stock in our case. so we seem to have 1 feature per time step.\n",
        "\n",
        "AAPL_Xtrain, AAPL_ytrain = [], []\n",
        "for i in range(60,len(AAPL_train_data)): # Seting Timestep to 60, so we need 60 observation of data from our train_data\n",
        "    AAPL_Xtrain.append(AAPL_scaled_data[i-60:i,0])\n",
        "    AAPL_ytrain.append(AAPL_scaled_data[i,0])\n",
        "AAPL_Xtrain, AAPL_ytrain = np.array(AAPL_Xtrain), np.array(AAPL_ytrain)\n",
        "AAPL_Xtrain = np.reshape(AAPL_Xtrain, (AAPL_Xtrain.shape[0],AAPL_Xtrain.shape[1],1)) \n",
        "print(AAPL_Xtrain.shape) # (Smaples, Timesteps, features)\n",
        "print(AAPL_ytrain.shape) "
      ],
      "execution_count": null,
      "outputs": [
        {
          "output_type": "stream",
          "text": [
            "(948, 60, 1)\n",
            "(948,)\n"
          ],
          "name": "stdout"
        }
      ]
    },
    {
      "cell_type": "code",
      "metadata": {
        "colab": {
          "base_uri": "https://localhost:8080/"
        },
        "id": "OTgIgbSzkPMN",
        "outputId": "f48d8767-6f88-4141-99a7-bc235b8156d1"
      },
      "source": [
        "# Creating LSTM network\n",
        "# I will build the LSTM with 3 hidden layers and 150 neurons in each layer. and lastly will assign 1 neuron in the output layer for predicting the normalized stock price. \n",
        "# I will use the MSE loss function and the Adam stochastic gradient descent optimizer.\n",
        "AAPL_model = Sequential()\n",
        "AAPL_model.add(LSTM(units=150, return_sequences=True, input_shape=(AAPL_Xtrain.shape[1],1))) # input_shape is (Timestep, Features)\n",
        "AAPL_model.add(Dropout(0.2)) \n",
        "AAPL_model.add(LSTM(units=150, return_sequences=True))\n",
        "#AAPL_model.add(Dropout(0.2))\n",
        "AAPL_model.add(LSTM(units=150))\n",
        "AAPL_model.add(Dense(1))\n",
        "\n",
        "AAPL_model.compile(loss='mean_squared_error', optimizer='adam') # model compilation\n",
        "AAPL_model.fit(AAPL_Xtrain, AAPL_ytrain, epochs=1, batch_size=10, verbose=2) # fit the model on the train data\n",
        "# this will take time - Be patient - we want good accuracy - try diffeent values of the hyperparameters"
      ],
      "execution_count": null,
      "outputs": [
        {
          "output_type": "stream",
          "text": [
            "95/95 - 41s - loss: 0.0021\n"
          ],
          "name": "stdout"
        },
        {
          "output_type": "execute_result",
          "data": {
            "text/plain": [
              "<keras.callbacks.History at 0x7f8679139650>"
            ]
          },
          "metadata": {
            "tags": []
          },
          "execution_count": 32
        }
      ]
    },
    {
      "cell_type": "code",
      "metadata": {
        "id": "rYKmUoSLkPe9"
      },
      "source": [
        "#predicting values\n",
        "AAPL_test_data = AAPL_scaled_data[AAPL_train_size - 60:,:]\n",
        "AAPL_Xtest = []\n",
        "AAPL_ytest = AAPL_dataset[AAPL_train_size:, :]\n",
        "for i in range(60,len(AAPL_test_data)):\n",
        "    AAPL_Xtest.append(AAPL_test_data[i-60:i,0])\n",
        "AAPL_Xtest = np.array(AAPL_Xtest)\n",
        "AAPL_Xtest = np.reshape(AAPL_Xtest, (AAPL_Xtest.shape[0],AAPL_Xtest.shape[1],1)) # 3 Dimension as of Xtrain, (samples, timestep, features)\n",
        "AAPL_price_pred = AAPL_model.predict(AAPL_Xtest) # predict close price of the Xtest\n",
        "AAPL_price_pred = scaler.inverse_transform(AAPL_price_pred) # get values of prediction to inverse the transformation of the normalization"
      ],
      "execution_count": null,
      "outputs": []
    },
    {
      "cell_type": "code",
      "metadata": {
        "colab": {
          "base_uri": "https://localhost:8080/"
        },
        "id": "xXgjhq5YkfG8",
        "outputId": "22e2fbf2-2d36-4561-fa50-76ba9524afe0"
      },
      "source": [
        "# Performance Evaluation\n",
        "print('AAPL')\n",
        "AAPL_Accuracy = round(metrics.r2_score(AAPL_ytest,AAPL_price_pred) * 100, 2)\n",
        "print('r2 score: {}%'.format(AAPL_Accuracy))\n",
        "AAPL_mean_abs = round(metrics.mean_absolute_error(AAPL_ytest,AAPL_price_pred), 2)\n",
        "print('Mean Absolute Error: {}'.format(AAPL_mean_abs))\n",
        "#print('Mean Squared Error:', metrics.mean_squared_error(AAPL_ytest,AAPL_price_pred))\n",
        "AAPL_rms = round(np.sqrt(metrics.mean_squared_error(AAPL_ytest,AAPL_price_pred)), 2)\n",
        "print('Root Mean Squared Error: {}'.format(AAPL_rms))"
      ],
      "execution_count": null,
      "outputs": [
        {
          "output_type": "stream",
          "text": [
            "AAPL\n",
            "r2 score: 64.82%\n",
            "Mean Absolute Error: 5.02\n",
            "Root Mean Squared Error: 6.24\n"
          ],
          "name": "stdout"
        }
      ]
    },
    {
      "cell_type": "code",
      "metadata": {
        "colab": {
          "base_uri": "https://localhost:8080/",
          "height": 527
        },
        "id": "c8P8t63vkgS8",
        "outputId": "2a62e57b-3e1a-493a-dbc0-21d1e6cfe734"
      },
      "source": [
        "# plotting\n",
        "plt.figure(figsize=(12,8))\n",
        "AAPL_train = AAPL_df[:AAPL_train_size]\n",
        "AAPL_test = AAPL_df[AAPL_train_size:]\n",
        "AAPL_test['Prediction'] = AAPL_price_pred\n",
        "plt.plot(AAPL_train['AAPL'], c='blue', label='Train')\n",
        "plt.plot(AAPL_test['AAPL'], c='orange',label='Test')\n",
        "plt.plot(AAPL_test['Prediction'], c='green', label='Prediction')\n",
        "plt.xlabel('Date', fontsize=18)\n",
        "plt.ylabel('Stock Close Price',fontsize=18)\n",
        "plt.title('AAPL Stock Analysis',fontsize=22)\n",
        "plt.legend(loc=2)"
      ],
      "execution_count": null,
      "outputs": [
        {
          "output_type": "display_data",
          "data": {
            "image/png": "[encoded data removed]",
            "text/plain": [
              "<Figure size 864x576 with 1 Axes>"
            ]
          },
          "metadata": {
            "tags": [],
            "needs_background": "light"
          }
        }
      ]
    },
    {
      "cell_type": "code",
      "metadata": {
        "id": "_iCw-4oZkPoZ"
      },
      "source": [
        ""
      ],
      "execution_count": null,
      "outputs": []
    },
    {
      "cell_type": "markdown",
      "metadata": {
        "id": "dKrt_xo3imQo"
      },
      "source": [
        "**AMZN Stock Prediction using LSTM**"
      ]
    },
    {
      "cell_type": "code",
      "metadata": {
        "colab": {
          "base_uri": "https://localhost:8080/"
        },
        "id": "7-2r0ZnoxDX7",
        "outputId": "bac3edb6-162d-4513-af9b-734ed25bbe5a"
      },
      "source": [
        "AMZN_df = pd.DataFrame(all_stock_df['AMZN'])\n",
        "AMZN_df['AMZN'] = np.round(AMZN_df['AMZN'],2) # round the decimals\n",
        "print(AMZN_df.head())"
      ],
      "execution_count": null,
      "outputs": [
        {
          "output_type": "stream",
          "text": [
            "              AMZN\n",
            "Date              \n",
            "2016-07-18  736.07\n",
            "2016-07-19  739.95\n",
            "2016-07-20  745.72\n",
            "2016-07-21  744.43\n",
            "2016-07-22  744.86\n"
          ],
          "name": "stdout"
        }
      ]
    },
    {
      "cell_type": "code",
      "metadata": {
        "colab": {
          "base_uri": "https://localhost:8080/"
        },
        "id": "zme27L2W6It4",
        "outputId": "c32ca596-c1e4-4ce2-c24c-fe8bd0d0b038"
      },
      "source": [
        "# Building the data\n",
        "AMZN_dataset = AMZN_df.values\n",
        "# len(AMZN_dataset) # 1258\n",
        "AMZN_train_size = math.ceil(len(AMZN_dataset)*.8) # 80% of the total data\n",
        "# Split the data into 80% train_dataset and 20% as test_dataset\n",
        "AMZN_train_data = AMZN_dataset[0:AMZN_train_size,:]\n",
        "#AMZN_test_data = AMZN_dataset[AMZN_train_size:,:]\n",
        "# Normalize the data, this boost the performance of model\n",
        "scaler = MinMaxScaler(feature_range=(0, 1))\n",
        "AMZN_scaled_data = scaler.fit_transform(AMZN_dataset)\n",
        "\n",
        "# since we are using LSTM, we must specify the shape of input as 3 dimensional which will be the samples, the time step and the features,\n",
        "AMZN_Xtrain, AMZN_ytrain = [], []\n",
        "for i in range(60,len(AMZN_train_data)): # Seting Timestep to 60, so we need 60 observation of data from our train_data\n",
        "    AMZN_Xtrain.append(AMZN_scaled_data[i-60:i,0])\n",
        "    AMZN_ytrain.append(AMZN_scaled_data[i,0])\n",
        "AMZN_Xtrain, AMZN_ytrain = np.array(AMZN_Xtrain), np.array(AMZN_ytrain)\n",
        "AMZN_Xtrain = np.reshape(AMZN_Xtrain, (AMZN_Xtrain.shape[0],AMZN_Xtrain.shape[1],1)) \n",
        "print(AMZN_Xtrain.shape) # (Smaples, Timesteps, features)\n",
        "print(AMZN_ytrain.shape) "
      ],
      "execution_count": null,
      "outputs": [
        {
          "output_type": "stream",
          "text": [
            "(948, 60, 1)\n",
            "(948,)\n"
          ],
          "name": "stdout"
        }
      ]
    },
    {
      "cell_type": "code",
      "metadata": {
        "colab": {
          "base_uri": "https://localhost:8080/"
        },
        "id": "c30pjTOR6I3i",
        "outputId": "adbdbcf2-0d57-4288-f968-13d891dd62f2"
      },
      "source": [
        "# Creating LSTM network\n",
        "# I will build the LSTM with 3 hidden layers and 150 neurons in each layer. and lastly will assign 1 neuron in the output layer for predicting the normalized stock price. \n",
        "# I will use the MSE loss function and the Adam stochastic gradient descent optimizer.\n",
        "AMZN_model = Sequential()\n",
        "AMZN_model.add(LSTM(units=150, return_sequences=True, input_shape=(AMZN_Xtrain.shape[1],1))) # input_shape is (Timestep, Features)\n",
        "AMZN_model.add(Dropout(0.2)) \n",
        "AMZN_model.add(LSTM(units=150, return_sequences=True))\n",
        "#AMZN_model.add(Dropout(0.2))\n",
        "AMZN_model.add(LSTM(units=150))\n",
        "AMZN_model.add(Dense(1))\n",
        "\n",
        "AMZN_model.compile(loss='mean_squared_error', optimizer='adam') # model compilation\n",
        "AMZN_model.fit(AMZN_Xtrain, AMZN_ytrain, epochs=1, batch_size=10, verbose=2) # fit the model on the train data\n",
        "# this will take time - Be patient - we want good accuracy"
      ],
      "execution_count": null,
      "outputs": [
        {
          "output_type": "stream",
          "text": [
            "95/95 - 23s - loss: 0.0051\n"
          ],
          "name": "stdout"
        },
        {
          "output_type": "execute_result",
          "data": {
            "text/plain": [
              "<keras.callbacks.History at 0x7f866d5e95d0>"
            ]
          },
          "metadata": {
            "tags": []
          },
          "execution_count": 38
        }
      ]
    },
    {
      "cell_type": "code",
      "metadata": {
        "id": "vMOw7fUFFKWY"
      },
      "source": [
        "#predicting values\n",
        "AMZN_test_data = AMZN_scaled_data[AMZN_train_size - 60:,:]\n",
        "AMZN_Xtest = []\n",
        "AMZN_ytest = AMZN_dataset[AMZN_train_size:, :]\n",
        "for i in range(60,len(AMZN_test_data)):\n",
        "    AMZN_Xtest.append(AMZN_test_data[i-60:i,0])\n",
        "AMZN_Xtest = np.array(AMZN_Xtest)\n",
        "AMZN_Xtest = np.reshape(AMZN_Xtest, (AMZN_Xtest.shape[0],AMZN_Xtest.shape[1],1)) # 3 Dimension as of Xtrain, (samples, timestep, features)\n",
        "AMZN_price_pred = AMZN_model.predict(AMZN_Xtest) # predict close price of the Xtest\n",
        "AMZN_price_pred = scaler.inverse_transform(AMZN_price_pred) # get values of prediction to inverse the transformation of the normalization"
      ],
      "execution_count": null,
      "outputs": []
    },
    {
      "cell_type": "code",
      "metadata": {
        "colab": {
          "base_uri": "https://localhost:8080/"
        },
        "id": "qA7oIlrvGOOU",
        "outputId": "00f8fe38-075e-4881-ea67-f512b1f39dae"
      },
      "source": [
        "# Performance Evaluation\n",
        "print('AMZN')\n",
        "AMZN_Accuracy = round(metrics.r2_score(AMZN_ytest,AMZN_price_pred) * 100, 2)\n",
        "print('r2 score: {}%'.format(AMZN_Accuracy))\n",
        "AMZN_mean_abs = round(metrics.mean_absolute_error(AMZN_ytest,AMZN_price_pred), 2)\n",
        "print('Mean Absolute Error: {}'.format(AMZN_mean_abs))\n",
        "#print('Mean Squared Error:', metrics.mean_squared_error(AMZN_ytest,AMZN_price_pred))\n",
        "AMZN_rms = round(np.sqrt(metrics.mean_squared_error(AMZN_ytest,AMZN_price_pred)), 2)\n",
        "print('Root Mean Squared Error: {}'.format(AMZN_rms))"
      ],
      "execution_count": null,
      "outputs": [
        {
          "output_type": "stream",
          "text": [
            "AMZN\n",
            "r2 score: -33.07%\n",
            "Mean Absolute Error: 142.58\n",
            "Root Mean Squared Error: 174.88\n"
          ],
          "name": "stdout"
        }
      ]
    },
    {
      "cell_type": "code",
      "metadata": {
        "colab": {
          "base_uri": "https://localhost:8080/",
          "height": 527
        },
        "id": "O0YWChxui98p",
        "outputId": "03112480-b73d-4331-9ac5-c21d20d7af87"
      },
      "source": [
        "# plotting\n",
        "plt.figure(figsize=(12,8))\n",
        "AMZN_train = AMZN_df[:AMZN_train_size]\n",
        "AMZN_test = AMZN_df[AMZN_train_size:]\n",
        "AMZN_test['Prediction'] = AMZN_price_pred\n",
        "plt.plot(AMZN_train['AMZN'], c='blue', label='Train')\n",
        "plt.plot(AMZN_test['AMZN'], c='orange', label='Test')\n",
        "plt.plot(AMZN_test['Prediction'], c='green', label='Prediction')\n",
        "plt.xlabel('Date', fontsize=18)\n",
        "plt.ylabel('Stock Close Price',fontsize=18)\n",
        "plt.title('AMZN Stock Analysis',fontsize=22)\n",
        "plt.legend(loc=2)"
      ],
      "execution_count": null,
      "outputs": [
        {
          "output_type": "display_data",
          "data": {
            "image/png": "[encoded data removed]",
            "text/plain": [
              "<Figure size 864x576 with 1 Axes>"
            ]
          },
          "metadata": {
            "tags": [],
            "needs_background": "light"
          }
        }
      ]
    },
    {
      "cell_type": "markdown",
      "metadata": {
        "id": "Ak35nrxZm8lX"
      },
      "source": [
        "**GOOG Stock Prediction Using LSTM**"
      ]
    },
    {
      "cell_type": "code",
      "metadata": {
        "colab": {
          "base_uri": "https://localhost:8080/"
        },
        "id": "fIB3zk4nHJpo",
        "outputId": "82879c90-3297-4c2c-fdbf-1ef9414fdb68"
      },
      "source": [
        "GOOG_df = pd.DataFrame(all_stock_df['GOOG'])\n",
        "GOOG_df['GOOG'] = np.round(GOOG_df['GOOG'],2) # round the decimals\n",
        "print(GOOG_df.head())"
      ],
      "execution_count": null,
      "outputs": [
        {
          "output_type": "stream",
          "text": [
            "              GOOG\n",
            "Date              \n",
            "2016-07-18  733.78\n",
            "2016-07-19  736.96\n",
            "2016-07-20  741.19\n",
            "2016-07-21  738.63\n",
            "2016-07-22  742.74\n"
          ],
          "name": "stdout"
        }
      ]
    },
    {
      "cell_type": "code",
      "metadata": {
        "colab": {
          "base_uri": "https://localhost:8080/"
        },
        "id": "cA1RsZWGnXX7",
        "outputId": "34d71b77-3368-4027-e4bb-86d4e304a56c"
      },
      "source": [
        "# Building the data\n",
        "GOOG_dataset = GOOG_df.values\n",
        "# len(GOOG_dataset) # 1258\n",
        "GOOG_train_size = math.ceil(len(GOOG_dataset)*.8) # 80% of the total data\n",
        "# Split the data into 80% train_dataset and 20% as test_dataset\n",
        "GOOG_train_data = GOOG_dataset[0:GOOG_train_size,:]\n",
        "#GOOG_test_data = GOOG_dataset[GOOG_train_size:,:]\n",
        "# Normalize the data, this boost the performance of model\n",
        "scaler = MinMaxScaler(feature_range=(0, 1))\n",
        "GOOG_scaled_data = scaler.fit_transform(GOOG_dataset)\n",
        "\n",
        "# since we are using LSTM, we must specify the shape of input as 3 dimensional which will be the samples, the time step and the features,\n",
        "GOOG_Xtrain, GOOG_ytrain = [], []\n",
        "for i in range(60,len(GOOG_train_data)): # Seting Timestep to 60, so we need 60 observation of data from our train_data\n",
        "    GOOG_Xtrain.append(GOOG_scaled_data[i-60:i,0])\n",
        "    GOOG_ytrain.append(GOOG_scaled_data[i,0])\n",
        "GOOG_Xtrain, GOOG_ytrain = np.array(GOOG_Xtrain), np.array(GOOG_ytrain)\n",
        "GOOG_Xtrain = np.reshape(GOOG_Xtrain, (GOOG_Xtrain.shape[0],GOOG_Xtrain.shape[1],1)) \n",
        "print(GOOG_Xtrain.shape) # (Smaples, Timesteps, features)\n",
        "print(GOOG_ytrain.shape) "
      ],
      "execution_count": null,
      "outputs": [
        {
          "output_type": "stream",
          "text": [
            "(948, 60, 1)\n",
            "(948,)\n"
          ],
          "name": "stdout"
        }
      ]
    },
    {
      "cell_type": "code",
      "metadata": {
        "colab": {
          "base_uri": "https://localhost:8080/"
        },
        "id": "R2ijq74nnXmf",
        "outputId": "56f5b94c-a999-4725-c819-8cb3de282190"
      },
      "source": [
        "# Creating LSTM network\n",
        "# I will build the LSTM with 3 hidden layers and 150 neurons in each layer. and lastly will assign 1 neuron in the output layer for predicting the normalized stock price. \n",
        "# I will use the MSE loss function and the Adam stochastic gradient descent optimizer.\n",
        "GOOG_model = Sequential()\n",
        "GOOG_model.add(LSTM(units=150, return_sequences=True, input_shape=(GOOG_Xtrain.shape[1],1))) # input_shape is (Timestep, Features)\n",
        "GOOG_model.add(Dropout(0.2)) \n",
        "GOOG_model.add(LSTM(units=150, return_sequences=True))\n",
        "#GOOG_model.add(Dropout(0.2))\n",
        "GOOG_model.add(LSTM(units=150))\n",
        "GOOG_model.add(Dense(1))\n",
        "\n",
        "GOOG_model.compile(loss='mean_squared_error', optimizer='adam') # model compilation\n",
        "GOOG_model.fit(GOOG_Xtrain, GOOG_ytrain, epochs=1, batch_size=10, verbose=2) # fit the model on the train data\n",
        "# this will take time - Be patient we want good accuracy"
      ],
      "execution_count": null,
      "outputs": [
        {
          "output_type": "stream",
          "text": [
            "95/95 - 23s - loss: 0.0016\n"
          ],
          "name": "stdout"
        },
        {
          "output_type": "execute_result",
          "data": {
            "text/plain": [
              "<keras.callbacks.History at 0x7f866d5dc210>"
            ]
          },
          "metadata": {
            "tags": []
          },
          "execution_count": 44
        }
      ]
    },
    {
      "cell_type": "code",
      "metadata": {
        "id": "FKI9BxtVnX23"
      },
      "source": [
        "#predicting values\n",
        "GOOG_test_data = GOOG_scaled_data[GOOG_train_size - 60:,:]\n",
        "GOOG_Xtest = []\n",
        "GOOG_ytest = GOOG_dataset[GOOG_train_size:, :]\n",
        "for i in range(60,len(GOOG_test_data)):\n",
        "    GOOG_Xtest.append(GOOG_test_data[i-60:i,0])\n",
        "GOOG_Xtest = np.array(GOOG_Xtest)\n",
        "GOOG_Xtest = np.reshape(GOOG_Xtest, (GOOG_Xtest.shape[0],GOOG_Xtest.shape[1],1)) # 3 Dimension as of Xtrain, (samples, timestep, features)\n",
        "GOOG_price_pred = GOOG_model.predict(GOOG_Xtest) # predict close price of the Xtest\n",
        "GOOG_price_pred = scaler.inverse_transform(GOOG_price_pred) # get values of prediction to inverse the transformation of the normalization"
      ],
      "execution_count": null,
      "outputs": []
    },
    {
      "cell_type": "code",
      "metadata": {
        "colab": {
          "base_uri": "https://localhost:8080/"
        },
        "id": "BO6nISrZnYFG",
        "outputId": "e09743ac-0999-42a2-ae65-e2def3c8c65c"
      },
      "source": [
        "# Performance Evaluation\n",
        "print('GOOG')\n",
        "GOOG_Accuracy = round(metrics.r2_score(GOOG_ytest,GOOG_price_pred) * 100, 2)\n",
        "print('r2 score: {}%'.format(GOOG_Accuracy))\n",
        "GOOG_mean_abs = round(metrics.mean_absolute_error(GOOG_ytest,GOOG_price_pred), 2)\n",
        "print('Mean Absolute Error: {}'.format(GOOG_mean_abs))\n",
        "#print('Mean Squared Error:', metrics.mean_squared_error(GOOG_ytest,GOOG_price_pred))\n",
        "GOOG_rms = round(np.sqrt(metrics.mean_squared_error(GOOG_ytest,GOOG_price_pred)), 2)\n",
        "print('Root Mean Squared Error: {}'.format(GOOG_rms))"
      ],
      "execution_count": null,
      "outputs": [
        {
          "output_type": "stream",
          "text": [
            "GOOG\n",
            "r2 score: 87.82%\n",
            "Mean Absolute Error: 104.21\n",
            "Root Mean Squared Error: 126.19\n"
          ],
          "name": "stdout"
        }
      ]
    },
    {
      "cell_type": "code",
      "metadata": {
        "colab": {
          "base_uri": "https://localhost:8080/",
          "height": 527
        },
        "id": "dUFLYVpinYTZ",
        "outputId": "fb690f4c-4b7b-4692-a135-879ddd49f832"
      },
      "source": [
        "# plotting\n",
        "plt.figure(figsize=(12,8))\n",
        "GOOG_train = GOOG_df[:GOOG_train_size]\n",
        "GOOG_test = GOOG_df[GOOG_train_size:]\n",
        "GOOG_test['Prediction'] = GOOG_price_pred\n",
        "plt.plot(GOOG_train['GOOG'], c='blue', label='Train')\n",
        "plt.plot(GOOG_test['GOOG'], c='orange', label='Test')\n",
        "plt.plot(GOOG_test['Prediction'], c='green', label='Prediction')\n",
        "plt.xlabel('Date', fontsize=18)\n",
        "plt.ylabel('Stock Close Price',fontsize=18)\n",
        "plt.title('GOOS Stock Analysis',fontsize=22)\n",
        "plt.legend(loc=2)"
      ],
      "execution_count": null,
      "outputs": [
        {
          "output_type": "display_data",
          "data": {
            "image/png": "[encoded data removed]",
            "text/plain": [
              "<Figure size 864x576 with 1 Axes>"
            ]
          },
          "metadata": {
            "tags": [],
            "needs_background": "light"
          }
        }
      ]
    },
    {
      "cell_type": "code",
      "metadata": {
        "id": "bt29FgiRnY-9"
      },
      "source": [
        ""
      ],
      "execution_count": null,
      "outputs": []
    },
    {
      "cell_type": "markdown",
      "metadata": {
        "id": "xkzXbw1wnJF9"
      },
      "source": [
        "**FB Stock Prediction Using LSTM**"
      ]
    },
    {
      "cell_type": "code",
      "metadata": {
        "colab": {
          "base_uri": "https://localhost:8080/"
        },
        "id": "CQUEsAkknSbB",
        "outputId": "7d5c2162-306c-403b-be9a-813a4c0c4ffc"
      },
      "source": [
        "FB_df = pd.DataFrame(all_stock_df['FB'])\n",
        "FB_df['FB'] = np.round(FB_df['FB'],2) # round the decimals\n",
        "print(FB_df.head())"
      ],
      "execution_count": null,
      "outputs": [
        {
          "output_type": "stream",
          "text": [
            "                FB\n",
            "Date              \n",
            "2016-07-18  119.37\n",
            "2016-07-19  120.61\n",
            "2016-07-20  121.92\n",
            "2016-07-21  120.61\n",
            "2016-07-22  121.00\n"
          ],
          "name": "stdout"
        }
      ]
    },
    {
      "cell_type": "code",
      "metadata": {
        "colab": {
          "base_uri": "https://localhost:8080/"
        },
        "id": "JsQrfokfnSom",
        "outputId": "f435c216-e642-401f-dfa7-a804bc9ac7d4"
      },
      "source": [
        "# Building the data\n",
        "FB_dataset = FB_df.values\n",
        "# len(FB_dataset) # 1258\n",
        "FB_train_size = math.ceil(len(FB_dataset)*.8) # 80% of the total data\n",
        "# Split the data into 80% train_dataset and 20% as test_dataset\n",
        "FB_train_data = FB_dataset[0:FB_train_size,:]\n",
        "#FB_test_data = FB_dataset[FB_train_size:,:]\n",
        "# Normalize the data, this boost the performance of model\n",
        "scaler = MinMaxScaler(feature_range=(0, 1))\n",
        "FB_scaled_data = scaler.fit_transform(FB_dataset)\n",
        "\n",
        "# since we are using LSTM, we must specify the shape of input as 3 dimensional which will be the samples, the time step and the features,\n",
        "FB_Xtrain, FB_ytrain = [], []\n",
        "for i in range(60,len(FB_train_data)): # Seting Timestep to 60, so we need 60 observation of data from our train_data\n",
        "    FB_Xtrain.append(FB_scaled_data[i-60:i,0])\n",
        "    FB_ytrain.append(FB_scaled_data[i,0])\n",
        "FB_Xtrain, FB_ytrain = np.array(FB_Xtrain), np.array(FB_ytrain)\n",
        "FB_Xtrain = np.reshape(FB_Xtrain, (FB_Xtrain.shape[0],FB_Xtrain.shape[1],1)) \n",
        "print(FB_Xtrain.shape) # (Smaples, Timesteps, features)\n",
        "print(FB_ytrain.shape) "
      ],
      "execution_count": null,
      "outputs": [
        {
          "output_type": "stream",
          "text": [
            "(948, 60, 1)\n",
            "(948,)\n"
          ],
          "name": "stdout"
        }
      ]
    },
    {
      "cell_type": "code",
      "metadata": {
        "colab": {
          "base_uri": "https://localhost:8080/"
        },
        "id": "jpT4bhN1nS3L",
        "outputId": "731fae88-2034-47f6-e82e-23dbdfb3ffa0"
      },
      "source": [
        "# Creating LSTM network\n",
        "# I will build the LSTM with 3 hidden layers and 150 neurons in each layer. and lastly will assign 1 neuron in the output layer for predicting the normalized stock price. \n",
        "# I will use the MSE loss function and the Adam stochastic gradient descent optimizer.\n",
        "FB_model = Sequential()\n",
        "FB_model.add(LSTM(units=150, return_sequences=True, input_shape=(FB_Xtrain.shape[1],1))) # input_shape is (Timestep, Features)\n",
        "FB_model.add(Dropout(0.2)) \n",
        "FB_model.add(LSTM(units=150, return_sequences=True))\n",
        "#FB_model.add(Dropout(0.2))\n",
        "FB_model.add(LSTM(units=150))\n",
        "FB_model.add(Dense(1))\n",
        "\n",
        "FB_model.compile(loss='mean_squared_error', optimizer='adam') # model compilation\n",
        "FB_model.fit(FB_Xtrain, FB_ytrain, epochs=1, batch_size=10, verbose=2) # fit the model on the train data\n",
        "# this will take time - Be patient we want good accuracy"
      ],
      "execution_count": null,
      "outputs": [
        {
          "output_type": "stream",
          "text": [
            "95/95 - 23s - loss: 0.0036\n"
          ],
          "name": "stdout"
        },
        {
          "output_type": "execute_result",
          "data": {
            "text/plain": [
              "<keras.callbacks.History at 0x7f86678cb350>"
            ]
          },
          "metadata": {
            "tags": []
          },
          "execution_count": 50
        }
      ]
    },
    {
      "cell_type": "code",
      "metadata": {
        "id": "4QIJyagAnTEV"
      },
      "source": [
        "#predicting values\n",
        "FB_test_data = FB_scaled_data[FB_train_size - 60:,:]\n",
        "FB_Xtest = []\n",
        "FB_ytest = FB_dataset[FB_train_size:, :]\n",
        "for i in range(60,len(FB_test_data)):\n",
        "    FB_Xtest.append(FB_test_data[i-60:i,0])\n",
        "FB_Xtest = np.array(FB_Xtest)\n",
        "FB_Xtest = np.reshape(FB_Xtest, (FB_Xtest.shape[0],FB_Xtest.shape[1],1)) # 3 Dimension as of Xtrain, (samples, timestep, features)\n",
        "FB_price_pred = FB_model.predict(FB_Xtest) # predict close price of the Xtest\n",
        "FB_price_pred = scaler.inverse_transform(FB_price_pred) # get values of prediction to inverse the transformation of the normalization"
      ],
      "execution_count": null,
      "outputs": []
    },
    {
      "cell_type": "code",
      "metadata": {
        "colab": {
          "base_uri": "https://localhost:8080/"
        },
        "id": "XxNpXrzcnTS2",
        "outputId": "881eeea5-f6c2-4f7d-bfea-b8b77d99245a"
      },
      "source": [
        "# Performance Evaluation\n",
        "print('FB')\n",
        "FB_Accuracy = round(metrics.r2_score(FB_ytest,FB_price_pred) * 100, 2)\n",
        "print('r2 score: {}%'.format(FB_Accuracy))\n",
        "FB_mean_abs = round(metrics.mean_absolute_error(FB_ytest,FB_price_pred), 2)\n",
        "print('Mean Absolute Error: {}'.format(FB_mean_abs))\n",
        "#print('Mean Squared Error:', metrics.mean_squared_error(FB_ytest,FB_price_pred))\n",
        "FB_rms = round(np.sqrt(metrics.mean_squared_error(FB_ytest,FB_price_pred)), 2)\n",
        "print('Root Mean Squared Error: {}'.format(FB_rms))"
      ],
      "execution_count": null,
      "outputs": [
        {
          "output_type": "stream",
          "text": [
            "FB\n",
            "r2 score: 84.45%\n",
            "Mean Absolute Error: 9.33\n",
            "Root Mean Squared Error: 11.66\n"
          ],
          "name": "stdout"
        }
      ]
    },
    {
      "cell_type": "code",
      "metadata": {
        "colab": {
          "base_uri": "https://localhost:8080/",
          "height": 527
        },
        "id": "_nt3_fnPnUSh",
        "outputId": "63ad75f1-d824-43f9-a721-7a2a79581b84"
      },
      "source": [
        "# plotting\n",
        "plt.figure(figsize=(12,8))\n",
        "FB_train = FB_df[:FB_train_size]\n",
        "FB_test = FB_df[FB_train_size:]\n",
        "FB_test['Prediction'] = FB_price_pred\n",
        "plt.plot(FB_train['FB'], c='blue', label='Train')\n",
        "plt.plot(FB_test['FB'], c='orange', label='Test')\n",
        "plt.plot(FB_test['Prediction'], c='green', label='Prediction')\n",
        "plt.xlabel('Date', fontsize=18)\n",
        "plt.ylabel('Stock Close Price',fontsize=18)\n",
        "plt.title('FB Stock Analysis',fontsize=22)\n",
        "plt.legend(loc=2)"
      ],
      "execution_count": null,
      "outputs": [
        {
          "output_type": "display_data",
          "data": {
            "image/png": "[encoded data removed]",
            "text/plain": [
              "<Figure size 864x576 with 1 Axes>"
            ]
          },
          "metadata": {
            "tags": [],
            "needs_background": "light"
          }
        }
      ]
    },
    {
      "cell_type": "code",
      "metadata": {
        "id": "WEpHlsCWnUfi"
      },
      "source": [
        ""
      ],
      "execution_count": null,
      "outputs": []
    },
    {
      "cell_type": "markdown",
      "metadata": {
        "id": "m0QRjZBInM-M"
      },
      "source": [
        "**TSLA Stock Prediction Using LSTM**"
      ]
    },
    {
      "cell_type": "code",
      "metadata": {
        "colab": {
          "base_uri": "https://localhost:8080/"
        },
        "id": "J01i9wn_nQMK",
        "outputId": "2feb2986-6560-49e4-8216-2f0831e3cfa6"
      },
      "source": [
        "TSLA_df = pd.DataFrame(all_stock_df['TSLA'])\n",
        "TSLA_df['TSLA'] = np.round(TSLA_df['TSLA'],2) # round the decimals\n",
        "print(TSLA_df.head())"
      ],
      "execution_count": null,
      "outputs": [
        {
          "output_type": "stream",
          "text": [
            "             TSLA\n",
            "Date             \n",
            "2016-07-18  45.25\n",
            "2016-07-19  45.05\n",
            "2016-07-20  45.67\n",
            "2016-07-21  44.10\n",
            "2016-07-22  44.45\n"
          ],
          "name": "stdout"
        }
      ]
    },
    {
      "cell_type": "code",
      "metadata": {
        "colab": {
          "base_uri": "https://localhost:8080/"
        },
        "id": "ysBt-XEPnQdP",
        "outputId": "f5d880e0-8bf3-4559-d204-0da79adc52d0"
      },
      "source": [
        "# Building the data\n",
        "TSLA_dataset = TSLA_df.values\n",
        "# len(TSLA_dataset) # 1258\n",
        "TSLA_train_size = math.ceil(len(TSLA_dataset)*.8) # 80% of the total data\n",
        "# Split the data into 80% train_dataset and 20% as test_dataset\n",
        "TSLA_train_data = TSLA_dataset[0:TSLA_train_size,:]\n",
        "#TSLA_test_data = TSLA_dataset[TSLA_train_size:,:]\n",
        "# Normalize the data, this boost the performance of model\n",
        "scaler = MinMaxScaler(feature_range=(0, 1))\n",
        "TSLA_scaled_data = scaler.fit_transform(TSLA_dataset)\n",
        "\n",
        "# since we are using LSTM, we must specify the shape of input as 3 dimensional which will be the samples, the time step and the features,\n",
        "TSLA_Xtrain, TSLA_ytrain = [], []\n",
        "for i in range(60,len(TSLA_train_data)): # Seting Timestep to 60, so we need 60 observation of data from our train_data\n",
        "    TSLA_Xtrain.append(TSLA_scaled_data[i-60:i,0])\n",
        "    TSLA_ytrain.append(TSLA_scaled_data[i,0])\n",
        "TSLA_Xtrain, TSLA_ytrain = np.array(TSLA_Xtrain), np.array(TSLA_ytrain)\n",
        "TSLA_Xtrain = np.reshape(TSLA_Xtrain, (TSLA_Xtrain.shape[0],TSLA_Xtrain.shape[1],1)) \n",
        "print(TSLA_Xtrain.shape) # (Smaples, Timesteps, features)\n",
        "print(TSLA_ytrain.shape) "
      ],
      "execution_count": null,
      "outputs": [
        {
          "output_type": "stream",
          "text": [
            "(948, 60, 1)\n",
            "(948,)\n"
          ],
          "name": "stdout"
        }
      ]
    },
    {
      "cell_type": "code",
      "metadata": {
        "colab": {
          "base_uri": "https://localhost:8080/"
        },
        "id": "iTTA38qnnQos",
        "outputId": "32c16600-05f6-4c32-afd0-9e5cd013bcc3"
      },
      "source": [
        "# Creating LSTM network\n",
        "# I will build the LSTM with 3 hidden layers and 150 neurons in each layer. and lastly will assign 1 neuron in the output layer for predicting the normalized stock price. \n",
        "# I will use the MSE loss function and the Adam stochastic gradient descent optimizer.\n",
        "TSLA_model = Sequential()\n",
        "TSLA_model.add(LSTM(units=150, return_sequences=True, input_shape=(TSLA_Xtrain.shape[1],1))) # input_shape is (Timestep, Features)\n",
        "TSLA_model.add(Dropout(0.2)) \n",
        "TSLA_model.add(LSTM(units=150, return_sequences=True))\n",
        "#TSLA_model.add(Dropout(0.2))\n",
        "TSLA_model.add(LSTM(units=150))\n",
        "TSLA_model.add(Dense(1))\n",
        "\n",
        "TSLA_model.compile(loss='mean_squared_error', optimizer='adam') # model compilation\n",
        "TSLA_model.fit(TSLA_Xtrain, TSLA_ytrain, epochs=1, batch_size=10 ) # fit the model on the train data\n",
        "# this will take time - Be patient because we want the model accuracy"
      ],
      "execution_count": null,
      "outputs": [
        {
          "output_type": "stream",
          "text": [
            "95/95 [==============================] - 24s 197ms/step - loss: 8.0643e-04\n"
          ],
          "name": "stdout"
        },
        {
          "output_type": "execute_result",
          "data": {
            "text/plain": [
              "<keras.callbacks.History at 0x7f866623a510>"
            ]
          },
          "metadata": {
            "tags": []
          },
          "execution_count": 56
        }
      ]
    },
    {
      "cell_type": "code",
      "metadata": {
        "id": "bJr3ItTbnQ2N"
      },
      "source": [
        "#predicting values\n",
        "TSLA_test_data = TSLA_scaled_data[TSLA_train_size - 60:,:]\n",
        "TSLA_Xtest = []\n",
        "TSLA_ytest = TSLA_dataset[TSLA_train_size:, :]\n",
        "for i in range(60,len(TSLA_test_data)):\n",
        "    TSLA_Xtest.append(TSLA_test_data[i-60:i,0])\n",
        "TSLA_Xtest = np.array(TSLA_Xtest)\n",
        "TSLA_Xtest = np.reshape(TSLA_Xtest, (TSLA_Xtest.shape[0],TSLA_Xtest.shape[1],1)) # 3 Dimension as of Xtrain, (samples, timestep, features)\n",
        "TSLA_price_pred = TSLA_model.predict(TSLA_Xtest) # predict close price of the Xtest\n",
        "TSLA_price_pred = scaler.inverse_transform(TSLA_price_pred) # get values of prediction to inverse the transformation of the normalization"
      ],
      "execution_count": null,
      "outputs": []
    },
    {
      "cell_type": "code",
      "metadata": {
        "colab": {
          "base_uri": "https://localhost:8080/"
        },
        "id": "3iKn69UlnREW",
        "outputId": "a0b49005-67d4-4779-eac8-5a41fc219b0a"
      },
      "source": [
        "# Performance Evaluation\n",
        "print('TSLA')\n",
        "TSLA_Accuracy = round(metrics.r2_score(TSLA_ytest,TSLA_price_pred) * 100, 2)\n",
        "print('r2 score: {}%'.format(TSLA_Accuracy))\n",
        "TSLA_mean_abs = round(metrics.mean_absolute_error(TSLA_ytest,TSLA_price_pred), 2)\n",
        "print('Mean Absolute Error: {}'.format(TSLA_mean_abs))\n",
        "#print('Mean Squared Error:', metrics.mean_squared_error(TSLA_ytest,TSLA_price_pred))\n",
        "TSLA_rms = round(np.sqrt(metrics.mean_squared_error(TSLA_ytest,TSLA_price_pred)), 2)\n",
        "print('Root Mean Squared Error: {}'.format(TSLA_rms))"
      ],
      "execution_count": null,
      "outputs": [
        {
          "output_type": "stream",
          "text": [
            "TSLA\n",
            "r2 score: 79.86%\n",
            "Mean Absolute Error: 55.15\n",
            "Root Mean Squared Error: 71.27\n"
          ],
          "name": "stdout"
        }
      ]
    },
    {
      "cell_type": "code",
      "metadata": {
        "colab": {
          "base_uri": "https://localhost:8080/",
          "height": 527
        },
        "id": "2wnsAw-anRRo",
        "outputId": "4ede269d-4332-4e3b-e741-b7988cf2cdae"
      },
      "source": [
        "# plotting\n",
        "plt.figure(figsize=(12,8))\n",
        "TSLA_train = TSLA_df[:TSLA_train_size]\n",
        "TSLA_test = TSLA_df[TSLA_train_size:]\n",
        "TSLA_test['Prediction'] = TSLA_price_pred\n",
        "plt.plot(TSLA_train['TSLA'], c='blue', label='Train')\n",
        "plt.plot(TSLA_test['TSLA'], c='orange', label='Test')\n",
        "plt.plot(TSLA_test['Prediction'], c='green', label='Prediction')\n",
        "plt.xlabel('Date', fontsize=18)\n",
        "plt.ylabel('Stock Close Price',fontsize=18)\n",
        "plt.title('TSLA Stock Analysis',fontsize=22)\n",
        "plt.legend(loc=2)"
      ],
      "execution_count": null,
      "outputs": [
        {
          "output_type": "display_data",
          "data": {
            "image/png": "[encoded data removed]",
            "text/plain": [
              "<Figure size 864x576 with 1 Axes>"
            ]
          },
          "metadata": {
            "tags": [],
            "needs_background": "light"
          }
        }
      ]
    },
    {
      "cell_type": "code",
      "metadata": {
        "id": "eFCmcd6VnRoA"
      },
      "source": [
        ""
      ],
      "execution_count": null,
      "outputs": []
    },
    {
      "cell_type": "code",
      "metadata": {
        "colab": {
          "base_uri": "https://localhost:8080/",
          "height": 204
        },
        "id": "OR4NqRAvoHQm",
        "outputId": "87aaf3fd-87e3-4eb4-b9bd-103c469b70f6"
      },
      "source": [
        "dic_performance = {'Accuracy(r2)%' : [AAPL_Accuracy,AMZN_Accuracy,GOOG_Accuracy,FB_Accuracy,TSLA_Accuracy],\n",
        "                  'Mean Absolute Error' : [AAPL_mean_abs,AMZN_mean_abs,GOOG_mean_abs,FB_mean_abs,TSLA_mean_abs],\n",
        "                  'RMS Error': [AAPL_rms,AMZN_rms,GOOG_rms,FB_rms,TSLA_rms]}\n",
        "df_performance = pd.DataFrame(dic_performance, index=companies)\n",
        "df_performance"
      ],
      "execution_count": null,
      "outputs": [
        {
          "output_type": "execute_result",
          "data": {
            "text/html": [
              "<div>\n",
              "<style scoped>\n",
              "    .dataframe tbody tr th:only-of-type {\n",
              "        vertical-align: middle;\n",
              "    }\n",
              "\n",
              "    .dataframe tbody tr th {\n",
              "        vertical-align: top;\n",
              "    }\n",
              "\n",
              "    .dataframe thead th {\n",
              "        text-align: right;\n",
              "    }\n",
              "</style>\n",
              "<table border=\"1\" class=\"dataframe\">\n",
              "  <thead>\n",
              "    <tr style=\"text-align: right;\">\n",
              "      <th></th>\n",
              "      <th>Accuracy(r2)%</th>\n",
              "      <th>Mean Absolute Error</th>\n",
              "      <th>RMS Error</th>\n",
              "    </tr>\n",
              "  </thead>\n",
              "  <tbody>\n",
              "    <tr>\n",
              "      <th>AAPL</th>\n",
              "      <td>64.82</td>\n",
              "      <td>5.02</td>\n",
              "      <td>6.24</td>\n",
              "    </tr>\n",
              "    <tr>\n",
              "      <th>AMZN</th>\n",
              "      <td>-33.07</td>\n",
              "      <td>142.58</td>\n",
              "      <td>174.88</td>\n",
              "    </tr>\n",
              "    <tr>\n",
              "      <th>GOOG</th>\n",
              "      <td>87.82</td>\n",
              "      <td>104.21</td>\n",
              "      <td>126.19</td>\n",
              "    </tr>\n",
              "    <tr>\n",
              "      <th>FB</th>\n",
              "      <td>84.45</td>\n",
              "      <td>9.33</td>\n",
              "      <td>11.66</td>\n",
              "    </tr>\n",
              "    <tr>\n",
              "      <th>TSLA</th>\n",
              "      <td>79.86</td>\n",
              "      <td>55.15</td>\n",
              "      <td>71.27</td>\n",
              "    </tr>\n",
              "  </tbody>\n",
              "</table>\n",
              "</div>"
            ],
            "text/plain": [
              "      Accuracy(r2)%  Mean Absolute Error  RMS Error\n",
              "AAPL          64.82                 5.02       6.24\n",
              "AMZN         -33.07               142.58     174.88\n",
              "GOOG          87.82               104.21     126.19\n",
              "FB            84.45                 9.33      11.66\n",
              "TSLA          79.86                55.15      71.27"
            ]
          },
          "metadata": {
            "tags": []
          },
          "execution_count": 367
        }
      ]
    },
    {
      "cell_type": "code",
      "metadata": {
        "id": "Bd6Nn7WRoHgr",
        "colab": {
          "base_uri": "https://localhost:8080/",
          "height": 235
        },
        "outputId": "70a4511e-8e8f-4a56-f3cd-abcac94f3a53"
      },
      "source": [
        "AAPL_train = AAPL_df[:AAPL_train_size]\n",
        "AAPL_test = AAPL_df[AAPL_train_size:]\n",
        "AAPL_test['Prediction'] = AAPL_price_pred\n",
        "\n",
        "AMZN_train = AMZN_df[:AMZN_train_size]\n",
        "AMZN_test = AMZN_df[AMZN_train_size:]\n",
        "AMZN_test['Prediction'] = AMZN_price_pred\n",
        "\n",
        "GOOG_train = GOOG_df[:GOOG_train_size]\n",
        "GOOG_test = GOOG_df[GOOG_train_size:]\n",
        "GOOG_test['Prediction'] = GOOG_price_pred\n",
        "\n",
        "FB_train = FB_df[:FB_train_size]\n",
        "FB_test = FB_df[FB_train_size:]\n",
        "FB_test['Prediction'] = FB_price_pred\n",
        "\n",
        "TSLA_train = TSLA_df[:TSLA_train_size]\n",
        "TSLA_test = TSLA_df[TSLA_train_size:]\n",
        "TSLA_test['Prediction'] = TSLA_price_pred\n",
        "\n",
        "test_predict_df = pd.DataFrame({'AAPL_test':AAPL_test['AAPL'], 'AAPL_pred':AAPL_test['Prediction'],\n",
        "                    'AMZN_test':AMZN_test['AMZN'], 'AMZN_pred':AMZN_test['Prediction'],\n",
        "                    'GOOG_test':GOOG_test['GOOG'], 'GOOG_pred':GOOG_test['Prediction'],\n",
        "                    'FB_test':FB_test['FB'], 'FB_pred':FB_test['Prediction'],\n",
        "                    'TSLA_test':TSLA_test['TSLA'], 'TSLA_pred':TSLA_test['Prediction'],}, index = AAPL_test.index)\n",
        "\n",
        "test_predict_df.head()"
      ],
      "execution_count": null,
      "outputs": [
        {
          "output_type": "execute_result",
          "data": {
            "text/html": [
              "<div>\n",
              "<style scoped>\n",
              "    .dataframe tbody tr th:only-of-type {\n",
              "        vertical-align: middle;\n",
              "    }\n",
              "\n",
              "    .dataframe tbody tr th {\n",
              "        vertical-align: top;\n",
              "    }\n",
              "\n",
              "    .dataframe thead th {\n",
              "        text-align: right;\n",
              "    }\n",
              "</style>\n",
              "<table border=\"1\" class=\"dataframe\">\n",
              "  <thead>\n",
              "    <tr style=\"text-align: right;\">\n",
              "      <th></th>\n",
              "      <th>AAPL_test</th>\n",
              "      <th>AAPL_pred</th>\n",
              "      <th>AMZN_test</th>\n",
              "      <th>AMZN_pred</th>\n",
              "      <th>GOOG_test</th>\n",
              "      <th>GOOG_pred</th>\n",
              "      <th>FB_test</th>\n",
              "      <th>FB_pred</th>\n",
              "      <th>TSLA_test</th>\n",
              "      <th>TSLA_pred</th>\n",
              "    </tr>\n",
              "    <tr>\n",
              "      <th>Date</th>\n",
              "      <th></th>\n",
              "      <th></th>\n",
              "      <th></th>\n",
              "      <th></th>\n",
              "      <th></th>\n",
              "      <th></th>\n",
              "      <th></th>\n",
              "      <th></th>\n",
              "      <th></th>\n",
              "      <th></th>\n",
              "    </tr>\n",
              "  </thead>\n",
              "  <tbody>\n",
              "    <tr>\n",
              "      <th>2020-07-20</th>\n",
              "      <td>97.70</td>\n",
              "      <td>93.208694</td>\n",
              "      <td>3196.84</td>\n",
              "      <td>3098.621094</td>\n",
              "      <td>1565.72</td>\n",
              "      <td>1470.437500</td>\n",
              "      <td>245.42</td>\n",
              "      <td>245.532440</td>\n",
              "      <td>328.60</td>\n",
              "      <td>295.593964</td>\n",
              "    </tr>\n",
              "    <tr>\n",
              "      <th>2020-07-21</th>\n",
              "      <td>96.35</td>\n",
              "      <td>93.727379</td>\n",
              "      <td>3138.29</td>\n",
              "      <td>3119.420166</td>\n",
              "      <td>1558.42</td>\n",
              "      <td>1477.295288</td>\n",
              "      <td>241.75</td>\n",
              "      <td>246.210815</td>\n",
              "      <td>313.67</td>\n",
              "      <td>303.100861</td>\n",
              "    </tr>\n",
              "    <tr>\n",
              "      <th>2020-07-22</th>\n",
              "      <td>96.62</td>\n",
              "      <td>94.208694</td>\n",
              "      <td>3099.91</td>\n",
              "      <td>3138.398682</td>\n",
              "      <td>1568.49</td>\n",
              "      <td>1484.210815</td>\n",
              "      <td>239.87</td>\n",
              "      <td>246.814651</td>\n",
              "      <td>318.47</td>\n",
              "      <td>309.675079</td>\n",
              "    </tr>\n",
              "    <tr>\n",
              "      <th>2020-07-23</th>\n",
              "      <td>92.22</td>\n",
              "      <td>94.645157</td>\n",
              "      <td>2986.55</td>\n",
              "      <td>3155.487549</td>\n",
              "      <td>1515.68</td>\n",
              "      <td>1491.266968</td>\n",
              "      <td>232.60</td>\n",
              "      <td>247.288483</td>\n",
              "      <td>302.61</td>\n",
              "      <td>315.339661</td>\n",
              "    </tr>\n",
              "    <tr>\n",
              "      <th>2020-07-24</th>\n",
              "      <td>92.00</td>\n",
              "      <td>94.968651</td>\n",
              "      <td>3008.91</td>\n",
              "      <td>3169.335938</td>\n",
              "      <td>1511.87</td>\n",
              "      <td>1497.469971</td>\n",
              "      <td>230.71</td>\n",
              "      <td>247.478271</td>\n",
              "      <td>283.40</td>\n",
              "      <td>319.678589</td>\n",
              "    </tr>\n",
              "  </tbody>\n",
              "</table>\n",
              "</div>"
            ],
            "text/plain": [
              "            AAPL_test  AAPL_pred  AMZN_test  ...     FB_pred  TSLA_test   TSLA_pred\n",
              "Date                                         ...                                   \n",
              "2020-07-20      97.70  93.208694    3196.84  ...  245.532440     328.60  295.593964\n",
              "2020-07-21      96.35  93.727379    3138.29  ...  246.210815     313.67  303.100861\n",
              "2020-07-22      96.62  94.208694    3099.91  ...  246.814651     318.47  309.675079\n",
              "2020-07-23      92.22  94.645157    2986.55  ...  247.288483     302.61  315.339661\n",
              "2020-07-24      92.00  94.968651    3008.91  ...  247.478271     283.40  319.678589\n",
              "\n",
              "[5 rows x 10 columns]"
            ]
          },
          "metadata": {
            "tags": []
          },
          "execution_count": 368
        }
      ]
    },
    {
      "cell_type": "code",
      "metadata": {
        "id": "FFSqmy2r7fls",
        "colab": {
          "base_uri": "https://localhost:8080/",
          "height": 142
        },
        "outputId": "be86997b-d470-44f2-f7c1-f1f569a1240d"
      },
      "source": [
        "news_df.head(3)"
      ],
      "execution_count": null,
      "outputs": [
        {
          "output_type": "execute_result",
          "data": {
            "text/html": [
              "<div>\n",
              "<style scoped>\n",
              "    .dataframe tbody tr th:only-of-type {\n",
              "        vertical-align: middle;\n",
              "    }\n",
              "\n",
              "    .dataframe tbody tr th {\n",
              "        vertical-align: top;\n",
              "    }\n",
              "\n",
              "    .dataframe thead th {\n",
              "        text-align: right;\n",
              "    }\n",
              "</style>\n",
              "<table border=\"1\" class=\"dataframe\">\n",
              "  <thead>\n",
              "    <tr style=\"text-align: right;\">\n",
              "      <th></th>\n",
              "      <th>Company</th>\n",
              "      <th>Date</th>\n",
              "      <th>Time</th>\n",
              "      <th>News Headline</th>\n",
              "      <th>Probability</th>\n",
              "      <th>Sentiment</th>\n",
              "      <th>Negative</th>\n",
              "      <th>Neutral</th>\n",
              "      <th>Positive</th>\n",
              "      <th>Compound</th>\n",
              "    </tr>\n",
              "  </thead>\n",
              "  <tbody>\n",
              "    <tr>\n",
              "      <th>0</th>\n",
              "      <td>AAPL</td>\n",
              "      <td>2021-07-17</td>\n",
              "      <td>07:00AM</td>\n",
              "      <td>big contrarian investor sold apple microsoft s...</td>\n",
              "      <td>0.998000</td>\n",
              "      <td>NEGATIVE</td>\n",
              "      <td>0.0</td>\n",
              "      <td>1.000</td>\n",
              "      <td>0.000</td>\n",
              "      <td>0.0000</td>\n",
              "    </tr>\n",
              "    <tr>\n",
              "      <th>1</th>\n",
              "      <td>AAPL</td>\n",
              "      <td>2021-07-16</td>\n",
              "      <td>07:22PM</td>\n",
              "      <td>tech earnings start monday here are 5 trends t...</td>\n",
              "      <td>0.984099</td>\n",
              "      <td>POSITIVE</td>\n",
              "      <td>0.0</td>\n",
              "      <td>1.000</td>\n",
              "      <td>0.000</td>\n",
              "      <td>0.0000</td>\n",
              "    </tr>\n",
              "    <tr>\n",
              "      <th>2</th>\n",
              "      <td>AAPL</td>\n",
              "      <td>2021-07-16</td>\n",
              "      <td>05:17PM</td>\n",
              "      <td>breaking down the most popular stocks owned by...</td>\n",
              "      <td>0.641024</td>\n",
              "      <td>POSITIVE</td>\n",
              "      <td>0.0</td>\n",
              "      <td>0.781</td>\n",
              "      <td>0.219</td>\n",
              "      <td>0.4754</td>\n",
              "    </tr>\n",
              "  </tbody>\n",
              "</table>\n",
              "</div>"
            ],
            "text/plain": [
              "  Company        Date       Time  ... Neutral  Positive Compound\n",
              "0    AAPL  2021-07-17  07:00AM    ...   1.000     0.000   0.0000\n",
              "1    AAPL  2021-07-16  07:22PM    ...   1.000     0.000   0.0000\n",
              "2    AAPL  2021-07-16  05:17PM    ...   0.781     0.219   0.4754\n",
              "\n",
              "[3 rows x 10 columns]"
            ]
          },
          "metadata": {
            "tags": []
          },
          "execution_count": 305
        }
      ]
    },
    {
      "cell_type": "code",
      "metadata": {
        "colab": {
          "base_uri": "https://localhost:8080/"
        },
        "id": "Er3ISD3D98-S",
        "outputId": "15e84bf5-7370-42c8-a38e-b095ade55aeb"
      },
      "source": [
        "news_copy = news_df.copy()\n",
        "news_copy.columns"
      ],
      "execution_count": null,
      "outputs": [
        {
          "output_type": "execute_result",
          "data": {
            "text/plain": [
              "Index(['Company', 'Date', 'Time', 'News Headline', 'Sentiment', 'Probability',\n",
              "       'Negative', 'Neutral', 'Positive', 'Compound'],\n",
              "      dtype='object')"
            ]
          },
          "metadata": {
            "tags": []
          },
          "execution_count": 327
        }
      ]
    },
    {
      "cell_type": "code",
      "metadata": {
        "id": "q0dKjuVKEPMi"
      },
      "source": [
        "#from datetime import *\n",
        "#news_copy['Time'] = datetime.strptime([time for time in news_copy['Time']], '%I:%M %p')\n",
        "#news_copy['Datetime'] = pd.to_datetime(news_copy.Date.astype(str) + ' ' + news_copy.Time.astype(str), format='%Y%m%d %H%M')"
      ],
      "execution_count": null,
      "outputs": []
    },
    {
      "cell_type": "code",
      "metadata": {
        "colab": {
          "base_uri": "https://localhost:8080/"
        },
        "id": "VEcQYyADOx0u",
        "outputId": "5748c978-081f-499d-d4ca-10473dcaf6ff"
      },
      "source": [
        "news_copy[news_copy.Company=='AAPL']['Compound']"
      ],
      "execution_count": null,
      "outputs": [
        {
          "output_type": "execute_result",
          "data": {
            "text/plain": [
              "0     0.7269\n",
              "1     0.5423\n",
              "2     0.0000\n",
              "3     0.0000\n",
              "4     0.0000\n",
              "       ...  \n",
              "95    0.3400\n",
              "96    0.3182\n",
              "97   -0.1027\n",
              "98   -0.1027\n",
              "99   -0.0258\n",
              "Name: Compound, Length: 100, dtype: float64"
            ]
          },
          "metadata": {
            "tags": []
          },
          "execution_count": 339
        }
      ]
    },
    {
      "cell_type": "code",
      "metadata": {
        "colab": {
          "base_uri": "https://localhost:8080/",
          "height": 282
        },
        "id": "uqvDPWIcOxjE",
        "outputId": "767aa4f8-9b14-450b-e333-9a72fdb518ae"
      },
      "source": [
        "plt.bar(news_copy[news_copy.Company=='AAPL']['Date'],news_copy[news_copy.Company=='AAPL']['Compound'])"
      ],
      "execution_count": null,
      "outputs": [
        {
          "output_type": "execute_result",
          "data": {
            "text/plain": [
              "<BarContainer object of 100 artists>"
            ]
          },
          "metadata": {
            "tags": []
          },
          "execution_count": 361
        },
        {
          "output_type": "display_data",
          "data": {
            "image/png": "[encoded data removed]",
            "text/plain": [
              "<Figure size 432x288 with 1 Axes>"
            ]
          },
          "metadata": {
            "tags": [],
            "needs_background": "light"
          }
        }
      ]
    },
    {
      "cell_type": "code",
      "metadata": {
        "colab": {
          "base_uri": "https://localhost:8080/",
          "height": 558
        },
        "id": "YM4fUct2EPF7",
        "outputId": "9ec40b37-395c-411c-c0a5-b60563903c7b"
      },
      "source": [
        ""
      ],
      "execution_count": null,
      "outputs": [
        {
          "output_type": "error",
          "ename": "ValueError",
          "evalue": "ignored",
          "traceback": [
            "\u001b[0;31m---------------------------------------------------------------------------\u001b[0m",
            "\u001b[0;31mValueError\u001b[0m                                Traceback (most recent call last)",
            "\u001b[0;32m<ipython-input-362-9ad2cbf8eb5d>\u001b[0m in \u001b[0;36m<module>\u001b[0;34m()\u001b[0m\n\u001b[0;32m----> 1\u001b[0;31m \u001b[0mplt\u001b[0m\u001b[0;34m.\u001b[0m\u001b[0mbar\u001b[0m\u001b[0;34m(\u001b[0m\u001b[0mnews_copy\u001b[0m\u001b[0;34m[\u001b[0m\u001b[0;34m'Date'\u001b[0m\u001b[0;34m]\u001b[0m\u001b[0;34m,\u001b[0m\u001b[0mnews_copy\u001b[0m\u001b[0;34m[\u001b[0m\u001b[0;34m'Compound'\u001b[0m\u001b[0;34m]\u001b[0m\u001b[0;34m,\u001b[0m\u001b[0mcolor\u001b[0m\u001b[0;34m=\u001b[0m\u001b[0mnews_copy\u001b[0m\u001b[0;34m[\u001b[0m\u001b[0;34m'Company'\u001b[0m\u001b[0;34m]\u001b[0m\u001b[0;34m)\u001b[0m\u001b[0;34m\u001b[0m\u001b[0;34m\u001b[0m\u001b[0m\n\u001b[0m",
            "\u001b[0;32m/usr/local/lib/python3.7/dist-packages/matplotlib/pyplot.py\u001b[0m in \u001b[0;36mbar\u001b[0;34m(x, height, width, bottom, align, data, **kwargs)\u001b[0m\n\u001b[1;32m   2407\u001b[0m     return gca().bar(\n\u001b[1;32m   2408\u001b[0m         \u001b[0mx\u001b[0m\u001b[0;34m,\u001b[0m \u001b[0mheight\u001b[0m\u001b[0;34m,\u001b[0m \u001b[0mwidth\u001b[0m\u001b[0;34m=\u001b[0m\u001b[0mwidth\u001b[0m\u001b[0;34m,\u001b[0m \u001b[0mbottom\u001b[0m\u001b[0;34m=\u001b[0m\u001b[0mbottom\u001b[0m\u001b[0;34m,\u001b[0m \u001b[0malign\u001b[0m\u001b[0;34m=\u001b[0m\u001b[0malign\u001b[0m\u001b[0;34m,\u001b[0m\u001b[0;34m\u001b[0m\u001b[0;34m\u001b[0m\u001b[0m\n\u001b[0;32m-> 2409\u001b[0;31m         **({\"data\": data} if data is not None else {}), **kwargs)\n\u001b[0m\u001b[1;32m   2410\u001b[0m \u001b[0;34m\u001b[0m\u001b[0m\n\u001b[1;32m   2411\u001b[0m \u001b[0;34m\u001b[0m\u001b[0m\n",
            "\u001b[0;32m/usr/local/lib/python3.7/dist-packages/matplotlib/__init__.py\u001b[0m in \u001b[0;36minner\u001b[0;34m(ax, data, *args, **kwargs)\u001b[0m\n\u001b[1;32m   1563\u001b[0m     \u001b[0;32mdef\u001b[0m \u001b[0minner\u001b[0m\u001b[0;34m(\u001b[0m\u001b[0max\u001b[0m\u001b[0;34m,\u001b[0m \u001b[0;34m*\u001b[0m\u001b[0margs\u001b[0m\u001b[0;34m,\u001b[0m \u001b[0mdata\u001b[0m\u001b[0;34m=\u001b[0m\u001b[0;32mNone\u001b[0m\u001b[0;34m,\u001b[0m \u001b[0;34m**\u001b[0m\u001b[0mkwargs\u001b[0m\u001b[0;34m)\u001b[0m\u001b[0;34m:\u001b[0m\u001b[0;34m\u001b[0m\u001b[0;34m\u001b[0m\u001b[0m\n\u001b[1;32m   1564\u001b[0m         \u001b[0;32mif\u001b[0m \u001b[0mdata\u001b[0m \u001b[0;32mis\u001b[0m \u001b[0;32mNone\u001b[0m\u001b[0;34m:\u001b[0m\u001b[0;34m\u001b[0m\u001b[0;34m\u001b[0m\u001b[0m\n\u001b[0;32m-> 1565\u001b[0;31m             \u001b[0;32mreturn\u001b[0m \u001b[0mfunc\u001b[0m\u001b[0;34m(\u001b[0m\u001b[0max\u001b[0m\u001b[0;34m,\u001b[0m \u001b[0;34m*\u001b[0m\u001b[0mmap\u001b[0m\u001b[0;34m(\u001b[0m\u001b[0msanitize_sequence\u001b[0m\u001b[0;34m,\u001b[0m \u001b[0margs\u001b[0m\u001b[0;34m)\u001b[0m\u001b[0;34m,\u001b[0m \u001b[0;34m**\u001b[0m\u001b[0mkwargs\u001b[0m\u001b[0;34m)\u001b[0m\u001b[0;34m\u001b[0m\u001b[0;34m\u001b[0m\u001b[0m\n\u001b[0m\u001b[1;32m   1566\u001b[0m \u001b[0;34m\u001b[0m\u001b[0m\n\u001b[1;32m   1567\u001b[0m         \u001b[0mbound\u001b[0m \u001b[0;34m=\u001b[0m \u001b[0mnew_sig\u001b[0m\u001b[0;34m.\u001b[0m\u001b[0mbind\u001b[0m\u001b[0;34m(\u001b[0m\u001b[0max\u001b[0m\u001b[0;34m,\u001b[0m \u001b[0;34m*\u001b[0m\u001b[0margs\u001b[0m\u001b[0;34m,\u001b[0m \u001b[0;34m**\u001b[0m\u001b[0mkwargs\u001b[0m\u001b[0;34m)\u001b[0m\u001b[0;34m\u001b[0m\u001b[0;34m\u001b[0m\u001b[0m\n",
            "\u001b[0;32m/usr/local/lib/python3.7/dist-packages/matplotlib/axes/_axes.py\u001b[0m in \u001b[0;36mbar\u001b[0;34m(self, x, height, width, bottom, align, **kwargs)\u001b[0m\n\u001b[1;32m   2351\u001b[0m \u001b[0;34m\u001b[0m\u001b[0m\n\u001b[1;32m   2352\u001b[0m         \u001b[0mlinewidth\u001b[0m \u001b[0;34m=\u001b[0m \u001b[0mitertools\u001b[0m\u001b[0;34m.\u001b[0m\u001b[0mcycle\u001b[0m\u001b[0;34m(\u001b[0m\u001b[0mnp\u001b[0m\u001b[0;34m.\u001b[0m\u001b[0matleast_1d\u001b[0m\u001b[0;34m(\u001b[0m\u001b[0mlinewidth\u001b[0m\u001b[0;34m)\u001b[0m\u001b[0;34m)\u001b[0m\u001b[0;34m\u001b[0m\u001b[0;34m\u001b[0m\u001b[0m\n\u001b[0;32m-> 2353\u001b[0;31m         color = itertools.chain(itertools.cycle(mcolors.to_rgba_array(color)),\n\u001b[0m\u001b[1;32m   2354\u001b[0m                                 \u001b[0;31m# Fallback if color == \"none\".\u001b[0m\u001b[0;34m\u001b[0m\u001b[0;34m\u001b[0m\u001b[0;34m\u001b[0m\u001b[0m\n\u001b[1;32m   2355\u001b[0m                                 itertools.repeat('none'))\n",
            "\u001b[0;32m/usr/local/lib/python3.7/dist-packages/matplotlib/colors.py\u001b[0m in \u001b[0;36mto_rgba_array\u001b[0;34m(c, alpha)\u001b[0m\n\u001b[1;32m    338\u001b[0m         \u001b[0;32mreturn\u001b[0m \u001b[0mnp\u001b[0m\u001b[0;34m.\u001b[0m\u001b[0mzeros\u001b[0m\u001b[0;34m(\u001b[0m\u001b[0;34m(\u001b[0m\u001b[0;36m0\u001b[0m\u001b[0;34m,\u001b[0m \u001b[0;36m4\u001b[0m\u001b[0;34m)\u001b[0m\u001b[0;34m,\u001b[0m \u001b[0mfloat\u001b[0m\u001b[0;34m)\u001b[0m\u001b[0;34m\u001b[0m\u001b[0;34m\u001b[0m\u001b[0m\n\u001b[1;32m    339\u001b[0m     \u001b[0;32melse\u001b[0m\u001b[0;34m:\u001b[0m\u001b[0;34m\u001b[0m\u001b[0;34m\u001b[0m\u001b[0m\n\u001b[0;32m--> 340\u001b[0;31m         \u001b[0;32mreturn\u001b[0m \u001b[0mnp\u001b[0m\u001b[0;34m.\u001b[0m\u001b[0marray\u001b[0m\u001b[0;34m(\u001b[0m\u001b[0;34m[\u001b[0m\u001b[0mto_rgba\u001b[0m\u001b[0;34m(\u001b[0m\u001b[0mcc\u001b[0m\u001b[0;34m,\u001b[0m \u001b[0malpha\u001b[0m\u001b[0;34m)\u001b[0m \u001b[0;32mfor\u001b[0m \u001b[0mcc\u001b[0m \u001b[0;32min\u001b[0m \u001b[0mc\u001b[0m\u001b[0;34m]\u001b[0m\u001b[0;34m)\u001b[0m\u001b[0;34m\u001b[0m\u001b[0;34m\u001b[0m\u001b[0m\n\u001b[0m\u001b[1;32m    341\u001b[0m \u001b[0;34m\u001b[0m\u001b[0m\n\u001b[1;32m    342\u001b[0m \u001b[0;34m\u001b[0m\u001b[0m\n",
            "\u001b[0;32m/usr/local/lib/python3.7/dist-packages/matplotlib/colors.py\u001b[0m in \u001b[0;36m<listcomp>\u001b[0;34m(.0)\u001b[0m\n\u001b[1;32m    338\u001b[0m         \u001b[0;32mreturn\u001b[0m \u001b[0mnp\u001b[0m\u001b[0;34m.\u001b[0m\u001b[0mzeros\u001b[0m\u001b[0;34m(\u001b[0m\u001b[0;34m(\u001b[0m\u001b[0;36m0\u001b[0m\u001b[0;34m,\u001b[0m \u001b[0;36m4\u001b[0m\u001b[0;34m)\u001b[0m\u001b[0;34m,\u001b[0m \u001b[0mfloat\u001b[0m\u001b[0;34m)\u001b[0m\u001b[0;34m\u001b[0m\u001b[0;34m\u001b[0m\u001b[0m\n\u001b[1;32m    339\u001b[0m     \u001b[0;32melse\u001b[0m\u001b[0;34m:\u001b[0m\u001b[0;34m\u001b[0m\u001b[0;34m\u001b[0m\u001b[0m\n\u001b[0;32m--> 340\u001b[0;31m         \u001b[0;32mreturn\u001b[0m \u001b[0mnp\u001b[0m\u001b[0;34m.\u001b[0m\u001b[0marray\u001b[0m\u001b[0;34m(\u001b[0m\u001b[0;34m[\u001b[0m\u001b[0mto_rgba\u001b[0m\u001b[0;34m(\u001b[0m\u001b[0mcc\u001b[0m\u001b[0;34m,\u001b[0m \u001b[0malpha\u001b[0m\u001b[0;34m)\u001b[0m \u001b[0;32mfor\u001b[0m \u001b[0mcc\u001b[0m \u001b[0;32min\u001b[0m \u001b[0mc\u001b[0m\u001b[0;34m]\u001b[0m\u001b[0;34m)\u001b[0m\u001b[0;34m\u001b[0m\u001b[0;34m\u001b[0m\u001b[0m\n\u001b[0m\u001b[1;32m    341\u001b[0m \u001b[0;34m\u001b[0m\u001b[0m\n\u001b[1;32m    342\u001b[0m \u001b[0;34m\u001b[0m\u001b[0m\n",
            "\u001b[0;32m/usr/local/lib/python3.7/dist-packages/matplotlib/colors.py\u001b[0m in \u001b[0;36mto_rgba\u001b[0;34m(c, alpha)\u001b[0m\n\u001b[1;32m    183\u001b[0m         \u001b[0mrgba\u001b[0m \u001b[0;34m=\u001b[0m \u001b[0;32mNone\u001b[0m\u001b[0;34m\u001b[0m\u001b[0;34m\u001b[0m\u001b[0m\n\u001b[1;32m    184\u001b[0m     \u001b[0;32mif\u001b[0m \u001b[0mrgba\u001b[0m \u001b[0;32mis\u001b[0m \u001b[0;32mNone\u001b[0m\u001b[0;34m:\u001b[0m  \u001b[0;31m# Suppress exception chaining of cache lookup failure.\u001b[0m\u001b[0;34m\u001b[0m\u001b[0;34m\u001b[0m\u001b[0m\n\u001b[0;32m--> 185\u001b[0;31m         \u001b[0mrgba\u001b[0m \u001b[0;34m=\u001b[0m \u001b[0m_to_rgba_no_colorcycle\u001b[0m\u001b[0;34m(\u001b[0m\u001b[0mc\u001b[0m\u001b[0;34m,\u001b[0m \u001b[0malpha\u001b[0m\u001b[0;34m)\u001b[0m\u001b[0;34m\u001b[0m\u001b[0;34m\u001b[0m\u001b[0m\n\u001b[0m\u001b[1;32m    186\u001b[0m         \u001b[0;32mtry\u001b[0m\u001b[0;34m:\u001b[0m\u001b[0;34m\u001b[0m\u001b[0;34m\u001b[0m\u001b[0m\n\u001b[1;32m    187\u001b[0m             \u001b[0m_colors_full_map\u001b[0m\u001b[0;34m.\u001b[0m\u001b[0mcache\u001b[0m\u001b[0;34m[\u001b[0m\u001b[0mc\u001b[0m\u001b[0;34m,\u001b[0m \u001b[0malpha\u001b[0m\u001b[0;34m]\u001b[0m \u001b[0;34m=\u001b[0m \u001b[0mrgba\u001b[0m\u001b[0;34m\u001b[0m\u001b[0;34m\u001b[0m\u001b[0m\n",
            "\u001b[0;32m/usr/local/lib/python3.7/dist-packages/matplotlib/colors.py\u001b[0m in \u001b[0;36m_to_rgba_no_colorcycle\u001b[0;34m(c, alpha)\u001b[0m\n\u001b[1;32m    259\u001b[0m                     f\"Value must be within 0-1 range\")\n\u001b[1;32m    260\u001b[0m             \u001b[0;32mreturn\u001b[0m \u001b[0mc\u001b[0m\u001b[0;34m,\u001b[0m \u001b[0mc\u001b[0m\u001b[0;34m,\u001b[0m \u001b[0mc\u001b[0m\u001b[0;34m,\u001b[0m \u001b[0malpha\u001b[0m \u001b[0;32mif\u001b[0m \u001b[0malpha\u001b[0m \u001b[0;32mis\u001b[0m \u001b[0;32mnot\u001b[0m \u001b[0;32mNone\u001b[0m \u001b[0;32melse\u001b[0m \u001b[0;36m1.\u001b[0m\u001b[0;34m\u001b[0m\u001b[0;34m\u001b[0m\u001b[0m\n\u001b[0;32m--> 261\u001b[0;31m         \u001b[0;32mraise\u001b[0m \u001b[0mValueError\u001b[0m\u001b[0;34m(\u001b[0m\u001b[0;34mf\"Invalid RGBA argument: {orig_c!r}\"\u001b[0m\u001b[0;34m)\u001b[0m\u001b[0;34m\u001b[0m\u001b[0;34m\u001b[0m\u001b[0m\n\u001b[0m\u001b[1;32m    262\u001b[0m     \u001b[0;31m# tuple color.\u001b[0m\u001b[0;34m\u001b[0m\u001b[0;34m\u001b[0m\u001b[0;34m\u001b[0m\u001b[0m\n\u001b[1;32m    263\u001b[0m     \u001b[0mc\u001b[0m \u001b[0;34m=\u001b[0m \u001b[0mnp\u001b[0m\u001b[0;34m.\u001b[0m\u001b[0marray\u001b[0m\u001b[0;34m(\u001b[0m\u001b[0mc\u001b[0m\u001b[0;34m)\u001b[0m\u001b[0;34m\u001b[0m\u001b[0;34m\u001b[0m\u001b[0m\n",
            "\u001b[0;31mValueError\u001b[0m: Invalid RGBA argument: 'AAPL'"
          ]
        },
        {
          "output_type": "display_data",
          "data": {
            "image/png": "[encoded data removed]",
            "text/plain": [
              "<Figure size 432x288 with 1 Axes>"
            ]
          },
          "metadata": {
            "tags": [],
            "needs_background": "light"
          }
        }
      ]
    },
    {
      "cell_type": "markdown",
      "metadata": {
        "id": "Z2idd10jQ5EN"
      },
      "source": [
        "**Dashboard**"
      ]
    },
    {
      "cell_type": "code",
      "metadata": {
        "id": "ZMSVEa4c8YID"
      },
      "source": [
        ""
      ],
      "execution_count": null,
      "outputs": []
    },
    {
      "cell_type": "code",
      "metadata": {
        "id": "Ag7PANReIX2U"
      },
      "source": [
        "pip install dash\n",
        "pip install dash_bootstrap_components\n",
        "pip install jypyter_dash"
      ],
      "execution_count": null,
      "outputs": []
    },
    {
      "cell_type": "code",
      "metadata": {
        "id": "TGH1iommQ8D_"
      },
      "source": [
        "import plotly.express as px\n",
        "import plotly.graph_objects as go\n",
        "import plotly.io as pio\n",
        "pio.renderers.default = \"browser\"\n",
        "import dash\n",
        "from dash.dependencies import Input, Output\n",
        "import dash_core_components as dcc\n",
        "import dash_html_components as html\n",
        "import dash_bootstrap_components as dbc\n",
        "from jupyter_dash import JupyterDash\n",
        "import dash.dependencies\n",
        "import dash_table"
      ],
      "execution_count": null,
      "outputs": []
    },
    {
      "cell_type": "code",
      "metadata": {
        "id": "-cp18PcrMLFx",
        "colab": {
          "base_uri": "https://localhost:8080/",
          "height": 17
        },
        "outputId": "2e93ada4-c654-4b29-86c0-b39999043f0b"
      },
      "source": [
        "external_stylesheets = ['https://codepen.io/chriddyp/pen/bWLwgP.css']\n",
        "#external_stylesheets = [dbc.themes.BOOTSTRAP]\n",
        "App = JupyterDash(__name__, external_stylesheets=external_stylesheets)\n",
        "\n",
        "# Generate news data table\n",
        "def generate_news_df(news_df, ticker):\n",
        "  return news_df[news_df.Company==ticker]\n",
        "\n",
        "def generate_table(ticker):\n",
        "  return generate_news_df(news_df,ticker).to_dict('records')\n",
        "\n",
        "# Generate Cards of Performance Score\n",
        "def get_ticker_performance(df_performance, ticker):\n",
        "  return df_performance[df_performance.index==ticker]\n",
        "\n",
        "def generate_card_content(card_header,card_value):\n",
        "    card_head_style = {'textAlign':'center','fontSize':'50%'}\n",
        "    card_body_style = {'textAlign':'center','fontSize':'75%'}\n",
        "    card_header = dbc.CardHeader(card_header,style=card_head_style)\n",
        "    card_body = dbc.CardBody([ html.H5(f\"{int(card_value):,}\",style=card_body_style),] )\n",
        "    card = [card_header,card_body]\n",
        "    return card\n",
        "\n",
        "def generate_cards(ticker='AAPL'):\n",
        "  Accuracy = get_ticker_performance(df_performance['Accuracy(r2)%'],ticker)\n",
        "  Mean_Absolute_Error = get_ticker_performance(df_performance['Mean Absolute Error'],ticker)\n",
        "  RMS_Error = get_ticker_performance(df_performance['RMS Error'],ticker)\n",
        "  cards = html.Div([\n",
        "                    dbc.Row([\n",
        "                            dbc.Col(dbc.Card(generate_card_content(\"Accuracy(r2)%\",Accuracy), color=\"blue\"),md=dict(size=1)),\n",
        "                            dbc.Col(dbc.Card(generate_card_content(\"Mean Absolute Error\",Mean_Absolute_Error), color=\"blue\"),md=dict(size=1)),\n",
        "                            dbc.Col(dbc.Card(generate_card_content(\"RMS Error\",RMS_Error), color=\"blue\"),md=dict(size=1)),\n",
        "                            ],id='card1'),\n",
        "                    ])\n",
        "  return cards\n",
        "\n",
        "App.layout = html.Div([\n",
        "                       html.H1(children='Stock Market Prediction System', style={'textAlign': 'center', 'color': '#7FDBFF'}),\n",
        "                       \n",
        "                       html.Div(children='Performing Sentiment Analysis on Article Headlines and Prediting Stocks Based on Historic Data of Five Stock Tickers(APPL, AMZN, GOOG, FB, & TSLA)',\n",
        "                                style={'textAlign':'center', 'color':'#7FDBFF' }),\n",
        "                       \n",
        "                       html.Div([\n",
        "                            html.Div([html.P(\"Select Stock:\"),\n",
        "                                dcc.Dropdown(\n",
        "                                    id = 'dropdown',\n",
        "                                    options=[{'label': company, 'value': company} for company in all_stock_df.columns],\n",
        "                                    value = 'AAPL'), \n",
        "                                ]),\n",
        "                                 \n",
        "                           generate_cards(),      \n",
        "                        \n",
        "                          html.Div([dcc.Graph(id='graph1'),],), #style={'width':'600px','height':'450px'}                      \n",
        "                            ], style={'width': '49%', 'float': 'left', 'display':'inline-block'}),\n",
        "\n",
        "                       html.Div([\n",
        "                                html.Div([dcc.Graph(id='graph2'),],),\n",
        "                                \n",
        "                                html.Div([dcc.Graph(id='graph3'),],),\n",
        "                                 ], style={'width': '49%', 'float': 'right', 'display': 'inline-block'}),\n",
        "          \n",
        "                       html.Div([\n",
        "                                  html.H4('News Articles Table'),\n",
        "                                  #html.Label('Report type:', style={'font-weight': 'bold'}),\n",
        "                                  dash_table.DataTable(id='table1',\n",
        "                                                      columns=[{\"name\": i, \"id\": i} for i in news_df.columns],\n",
        "                                                      data = generate_table('AAPL'))\n",
        "                                    ])\n",
        "                       ])\n",
        "\n",
        "@App.callback(\n",
        "Output('graph1', 'figure'),\n",
        "#Output('graph2', 'figure'), \n",
        "[Input('dropdown', 'value')])\n",
        "\n",
        "def display_Stock(ticker):\n",
        "  fig1 = px.line(all_stock_df, x=all_stock_df.index, y=ticker, title='Stock Close Price')\n",
        "  fig1.update_xaxes(\n",
        "    title_text='Date',\n",
        "    rangeslider_visible=True,\n",
        "    rangeselector=dict(\n",
        "        buttons=list([\n",
        "            dict(count=1, label=\"1m\", step=\"month\", stepmode=\"backward\"),\n",
        "            dict(count=6, label=\"6m\", step=\"month\", stepmode=\"backward\"),\n",
        "            dict(count=1, label=\"YTD\", step=\"year\", stepmode=\"todate\"),\n",
        "            dict(count=1, label=\"1y\", step=\"year\", stepmode=\"backward\"),\n",
        "            dict(step=\"all\")\n",
        "        ])\n",
        "    )\n",
        ")\n",
        "  \n",
        "  #fig.update_traces(line_color='#FF0000')\n",
        "  return fig1\n",
        "\n",
        "@App.callback(\n",
        "Output('graph2', 'figure'), \n",
        "[Input('dropdown', 'value')])\n",
        "def display_predict(ticker):\n",
        "  fig2 = go.Figure()\n",
        "  fig2.add_trace(go.Scatter(x=test_predict_df.index, y=test_predict_df[ticker+'_test'],\n",
        "                    mode='lines',\n",
        "                    name=ticker))\n",
        "  fig2.add_trace(go.Scatter(x=test_predict_df.index, y=test_predict_df[ticker+'_pred'],\n",
        "                    mode='lines',\n",
        "                    name='prediction'))\n",
        "  fig2.update_layout(title=ticker+' Test and Prediction Plot',\n",
        "                   xaxis_title='Date',\n",
        "                   yaxis_title=ticker)\n",
        "  return fig2\n",
        "\n",
        "@App.callback(\n",
        "Output('graph3', 'figure'),\n",
        "[Input('dropdown', 'value')])\n",
        "def display_Sentiments(ticker):\n",
        "  df = news_df[news_df.Company==ticker]\n",
        "  fig3 = px.bar(df, x=df['Date'], y=df['Compound'], title='Sentiment Score(Compound)')\n",
        "  fig3.update_xaxes(title_text='Date')\n",
        "  fig3.update_yaxes(title_text='Sentiment Score')\n",
        "  return fig3\n",
        "\n",
        "@App.callback(\n",
        "Output('card1', 'children'), \n",
        "[Input('dropdown', 'value')])\n",
        "def return_card(ticker):\n",
        "  return generate_cards(ticker)\n",
        "\n",
        "@App.callback(\n",
        "Output('table1', 'data'), \n",
        "[Input('dropdown', 'value')])\n",
        "def update_table(ticker):\n",
        "  return generate_table(ticker)\n",
        "\n",
        "App.run_server(mode='inline', port = 8020, dev_tools_ui=True, dev_tools_hot_reload =True, threaded=True) #debug=True,\n"
      ],
      "execution_count": 372,
      "outputs": [
        {
          "output_type": "display_data",
          "data": {
            "application/javascript": [
              "(async (port, path, width, height, cache, element) => {\n",
              "    if (!google.colab.kernel.accessAllowed && !cache) {\n",
              "      return;\n",
              "    }\n",
              "    element.appendChild(document.createTextNode(''));\n",
              "    const url = await google.colab.kernel.proxyPort(port, {cache});\n",
              "    const iframe = document.createElement('iframe');\n",
              "    iframe.src = new URL(path, url).toString();\n",
              "    iframe.height = height;\n",
              "    iframe.width = width;\n",
              "    iframe.style.border = 0;\n",
              "    element.appendChild(iframe);\n",
              "  })(8020, \"/\", \"100%\", 650, false, window.element)"
            ],
            "text/plain": [
              "<IPython.core.display.Javascript object>"
            ]
          },
          "metadata": {
            "tags": []
          }
        }
      ]
    },
    {
      "cell_type": "code",
      "metadata": {
        "id": "ur-z79hkNBJY"
      },
      "source": [
        ""
      ],
      "execution_count": null,
      "outputs": []
    },
    {
      "cell_type": "code",
      "metadata": {
        "colab": {
          "base_uri": "https://localhost:8080/",
          "height": 111
        },
        "id": "0oniBoPSacYS",
        "outputId": "f43b0afd-8832-4cda-ed9d-29f3a356d7cb"
      },
      "source": [
        "all_stock_df.head(1)"
      ],
      "execution_count": null,
      "outputs": [
        {
          "output_type": "execute_result",
          "data": {
            "text/html": [
              "<div>\n",
              "<style scoped>\n",
              "    .dataframe tbody tr th:only-of-type {\n",
              "        vertical-align: middle;\n",
              "    }\n",
              "\n",
              "    .dataframe tbody tr th {\n",
              "        vertical-align: top;\n",
              "    }\n",
              "\n",
              "    .dataframe thead th {\n",
              "        text-align: right;\n",
              "    }\n",
              "</style>\n",
              "<table border=\"1\" class=\"dataframe\">\n",
              "  <thead>\n",
              "    <tr style=\"text-align: right;\">\n",
              "      <th></th>\n",
              "      <th>AAPL</th>\n",
              "      <th>AMZN</th>\n",
              "      <th>GOOG</th>\n",
              "      <th>FB</th>\n",
              "      <th>TSLA</th>\n",
              "    </tr>\n",
              "    <tr>\n",
              "      <th>Date</th>\n",
              "      <th></th>\n",
              "      <th></th>\n",
              "      <th></th>\n",
              "      <th></th>\n",
              "      <th></th>\n",
              "    </tr>\n",
              "  </thead>\n",
              "  <tbody>\n",
              "    <tr>\n",
              "      <th>2016-07-18</th>\n",
              "      <td>23.31492</td>\n",
              "      <td>736.070007</td>\n",
              "      <td>733.780029</td>\n",
              "      <td>119.370003</td>\n",
              "      <td>45.25</td>\n",
              "    </tr>\n",
              "  </tbody>\n",
              "</table>\n",
              "</div>"
            ],
            "text/plain": [
              "                AAPL        AMZN        GOOG          FB   TSLA\n",
              "Date                                                           \n",
              "2016-07-18  23.31492  736.070007  733.780029  119.370003  45.25"
            ]
          },
          "metadata": {
            "tags": []
          },
          "execution_count": 365
        }
      ]
    },
    {
      "cell_type": "code",
      "metadata": {
        "colab": {
          "base_uri": "https://localhost:8080/",
          "height": 80
        },
        "id": "VZg4KLskbPTs",
        "outputId": "012a7558-759b-428e-f7f8-5c1c63035bec"
      },
      "source": [
        "news_df.head(1)"
      ],
      "execution_count": null,
      "outputs": [
        {
          "output_type": "execute_result",
          "data": {
            "text/html": [
              "<div>\n",
              "<style scoped>\n",
              "    .dataframe tbody tr th:only-of-type {\n",
              "        vertical-align: middle;\n",
              "    }\n",
              "\n",
              "    .dataframe tbody tr th {\n",
              "        vertical-align: top;\n",
              "    }\n",
              "\n",
              "    .dataframe thead th {\n",
              "        text-align: right;\n",
              "    }\n",
              "</style>\n",
              "<table border=\"1\" class=\"dataframe\">\n",
              "  <thead>\n",
              "    <tr style=\"text-align: right;\">\n",
              "      <th></th>\n",
              "      <th>Company</th>\n",
              "      <th>Date</th>\n",
              "      <th>Time</th>\n",
              "      <th>News Headline</th>\n",
              "      <th>Sentiment</th>\n",
              "      <th>Probability</th>\n",
              "      <th>Negative</th>\n",
              "      <th>Neutral</th>\n",
              "      <th>Positive</th>\n",
              "      <th>Compound</th>\n",
              "    </tr>\n",
              "  </thead>\n",
              "  <tbody>\n",
              "    <tr>\n",
              "      <th>0</th>\n",
              "      <td>AAPL</td>\n",
              "      <td>2021-07-17</td>\n",
              "      <td>10:13AM</td>\n",
              "      <td>ive used apple airpods for years now heres wha...</td>\n",
              "      <td>POSITIVE</td>\n",
              "      <td>0.986938</td>\n",
              "      <td>0.0</td>\n",
              "      <td>0.757</td>\n",
              "      <td>0.243</td>\n",
              "      <td>0.7269</td>\n",
              "    </tr>\n",
              "  </tbody>\n",
              "</table>\n",
              "</div>"
            ],
            "text/plain": [
              "  Company        Date       Time  ... Neutral Positive  Compound\n",
              "0    AAPL  2021-07-17  10:13AM    ...   0.757    0.243    0.7269\n",
              "\n",
              "[1 rows x 10 columns]"
            ]
          },
          "metadata": {
            "tags": []
          },
          "execution_count": 366
        }
      ]
    },
    {
      "cell_type": "code",
      "metadata": {
        "colab": {
          "base_uri": "https://localhost:8080/",
          "height": 163
        },
        "id": "hJRuSjDESbO7",
        "outputId": "8e25e4f8-f277-4bd3-e785-e6e9c91e6b61"
      },
      "source": [
        "generate_news_df('AAPL')"
      ],
      "execution_count": null,
      "outputs": [
        {
          "output_type": "error",
          "ename": "TypeError",
          "evalue": "ignored",
          "traceback": [
            "\u001b[0;31m---------------------------------------------------------------------------\u001b[0m",
            "\u001b[0;31mTypeError\u001b[0m                                 Traceback (most recent call last)",
            "\u001b[0;32m<ipython-input-370-53ba6547890c>\u001b[0m in \u001b[0;36m<module>\u001b[0;34m()\u001b[0m\n\u001b[0;32m----> 1\u001b[0;31m \u001b[0mgenerate_news_df\u001b[0m\u001b[0;34m(\u001b[0m\u001b[0;34m'AAPL'\u001b[0m\u001b[0;34m)\u001b[0m\u001b[0;34m\u001b[0m\u001b[0;34m\u001b[0m\u001b[0m\n\u001b[0m",
            "\u001b[0;31mTypeError\u001b[0m: generate_news_df() missing 1 required positional argument: 'ticker'"
          ]
        }
      ]
    },
    {
      "cell_type": "code",
      "metadata": {
        "id": "Fe_AcpJxa5uu"
      },
      "source": [
        ""
      ],
      "execution_count": null,
      "outputs": []
    }
  ]
}